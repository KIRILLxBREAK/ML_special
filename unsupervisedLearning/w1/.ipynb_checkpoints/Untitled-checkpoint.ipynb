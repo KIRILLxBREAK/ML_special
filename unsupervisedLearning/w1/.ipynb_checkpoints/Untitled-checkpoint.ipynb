{
 "cells": [
  {
   "cell_type": "code",
   "execution_count": 1,
   "metadata": {
    "collapsed": true
   },
   "outputs": [],
   "source": [
    "import pandas as pd\n",
    "from sklearn.cluster import MeanShift\n",
    "import numpy as np"
   ]
  },
  {
   "cell_type": "code",
   "execution_count": 2,
   "metadata": {
    "collapsed": false
   },
   "outputs": [
    {
     "name": "stderr",
     "output_type": "stream",
     "text": [
      "C:\\Users\\Nikolay\\AppData\\Local\\Continuum\\Anaconda3\\envs\\py35\\lib\\site-packages\\IPython\\core\\interactiveshell.py:2723: DtypeWarning: Columns (0) have mixed types. Specify dtype option on import or set low_memory=False.\n",
      "  interactivity=interactivity, compiler=compiler, result=result)\n"
     ]
    }
   ],
   "source": [
    "data = pd.read_csv(\"checkins.dat\", sep='|', na_values='                   ')\n",
    "data.columns = data.columns.str.strip()\n",
    "# x = df.replace(r'\\s+', None, regex=True)\n",
    "# with open('checkins.dat','r') as f:\n",
    "#     next(f) # skip first row\n",
    "#     df = pd.DataFrame(l.rstrip().split() for l in f)\n"
   ]
  },
  {
   "cell_type": "code",
   "execution_count": 3,
   "metadata": {
    "collapsed": false
   },
   "outputs": [],
   "source": [
    "# df.columns = df.columns = df.columns.str.strip()\n",
    "# df['latitude'].ix[3]\n",
    "df = data.dropna()"
   ]
  },
  {
   "cell_type": "code",
   "execution_count": 4,
   "metadata": {
    "collapsed": false
   },
   "outputs": [
    {
     "name": "stdout",
     "output_type": "stream",
     "text": [
      "396634\n"
     ]
    },
    {
     "data": {
      "text/html": [
       "<div>\n",
       "<table border=\"1\" class=\"dataframe\">\n",
       "  <thead>\n",
       "    <tr style=\"text-align: right;\">\n",
       "      <th></th>\n",
       "      <th>id</th>\n",
       "      <th>user_id</th>\n",
       "      <th>venue_id</th>\n",
       "      <th>latitude</th>\n",
       "      <th>longitude</th>\n",
       "      <th>created_at</th>\n",
       "    </tr>\n",
       "  </thead>\n",
       "  <tbody>\n",
       "    <tr>\n",
       "      <th>2</th>\n",
       "      <td>984222</td>\n",
       "      <td>15824</td>\n",
       "      <td>5222</td>\n",
       "      <td>38.895112</td>\n",
       "      <td>-77.036366</td>\n",
       "      <td>2012-04-21 17:43:47</td>\n",
       "    </tr>\n",
       "    <tr>\n",
       "      <th>4</th>\n",
       "      <td>984234</td>\n",
       "      <td>44652</td>\n",
       "      <td>5222</td>\n",
       "      <td>33.800745</td>\n",
       "      <td>-84.410520</td>\n",
       "      <td>2012-04-21 17:43:43</td>\n",
       "    </tr>\n",
       "    <tr>\n",
       "      <th>8</th>\n",
       "      <td>984291</td>\n",
       "      <td>105054</td>\n",
       "      <td>5222</td>\n",
       "      <td>45.523452</td>\n",
       "      <td>-122.676207</td>\n",
       "      <td>2012-04-21 17:39:22</td>\n",
       "    </tr>\n",
       "    <tr>\n",
       "      <th>10</th>\n",
       "      <td>984318</td>\n",
       "      <td>2146539</td>\n",
       "      <td>5222</td>\n",
       "      <td>40.764462</td>\n",
       "      <td>-111.904565</td>\n",
       "      <td>2012-04-21 17:35:46</td>\n",
       "    </tr>\n",
       "    <tr>\n",
       "      <th>11</th>\n",
       "      <td>984232</td>\n",
       "      <td>93870</td>\n",
       "      <td>380645</td>\n",
       "      <td>33.448377</td>\n",
       "      <td>-112.074037</td>\n",
       "      <td>2012-04-21 17:38:18</td>\n",
       "    </tr>\n",
       "  </tbody>\n",
       "</table>\n",
       "</div>"
      ],
      "text/plain": [
       "           id  user_id  venue_id   latitude   longitude            created_at\n",
       "2     984222     15824      5222  38.895112  -77.036366   2012-04-21 17:43:47\n",
       "4     984234     44652      5222  33.800745  -84.410520   2012-04-21 17:43:43\n",
       "8     984291    105054      5222  45.523452 -122.676207   2012-04-21 17:39:22\n",
       "10    984318   2146539      5222  40.764462 -111.904565   2012-04-21 17:35:46\n",
       "11    984232     93870    380645  33.448377 -112.074037   2012-04-21 17:38:18"
      ]
     },
     "execution_count": 4,
     "metadata": {},
     "output_type": "execute_result"
    }
   ],
   "source": [
    "print(len(df))\n",
    "df.head()"
   ]
  },
  {
   "cell_type": "code",
   "execution_count": 5,
   "metadata": {
    "collapsed": false
   },
   "outputs": [],
   "source": [
    "sample = df[['latitude', 'longitude']][:100000]\n",
    "# sample = df[['latitude', 'longitude']].sample(100000)"
   ]
  },
  {
   "cell_type": "code",
   "execution_count": 6,
   "metadata": {
    "collapsed": false
   },
   "outputs": [],
   "source": [
    "model = MeanShift(bandwidth=0.1)\n",
    "clusters = model.fit_predict(sample)"
   ]
  },
  {
   "cell_type": "code",
   "execution_count": 7,
   "metadata": {
    "collapsed": false
   },
   "outputs": [
    {
     "data": {
      "text/plain": [
       "100000"
      ]
     },
     "execution_count": 7,
     "metadata": {},
     "output_type": "execute_result"
    }
   ],
   "source": [
    "len(clusters)"
   ]
  },
  {
   "cell_type": "code",
   "execution_count": 8,
   "metadata": {
    "collapsed": false
   },
   "outputs": [],
   "source": [
    "cl = pd.Series(clusters, name='cluster')\n",
    "counts = cl.value_counts()\n",
    "clusters = counts.index[counts.values>15]"
   ]
  },
  {
   "cell_type": "code",
   "execution_count": 9,
   "metadata": {
    "collapsed": false
   },
   "outputs": [],
   "source": [
    "company = [\n",
    "    [33.751277, -118.188740], [25.867736, -80.324116], [51.503016, -0.075479],\n",
    "    [52.378894, 4.885084], [39.366487, 117.036146], [-33.868457, 151.205134]\n",
    "]\n",
    "company = np.array(company)"
   ]
  },
  {
   "cell_type": "code",
   "execution_count": 10,
   "metadata": {
    "collapsed": false
   },
   "outputs": [
    {
     "data": {
      "text/plain": [
       "array([[  40.71720372,  -73.98928227],\n",
       "       [  33.45021929, -112.00212353],\n",
       "       [  41.87816635,  -87.62983043],\n",
       "       ..., \n",
       "       [ -36.9530211 ,  174.4688092 ],\n",
       "       [  40.506718  ,  -83.7479894 ],\n",
       "       [  42.404804  ,  -82.191038  ]])"
      ]
     },
     "execution_count": 10,
     "metadata": {},
     "output_type": "execute_result"
    }
   ],
   "source": [
    "model.cluster_centers_"
   ]
  },
  {
   "cell_type": "code",
   "execution_count": 11,
   "metadata": {
    "collapsed": false
   },
   "outputs": [
    {
     "data": {
      "text/plain": [
       "array([ 16.14425006,   6.19393728,  17.598504  ,  13.42429208,\n",
       "         5.77019612,   5.84919267,   6.32576853,   8.88684267,\n",
       "        18.91166905,  14.46131916])"
      ]
     },
     "execution_count": 11,
     "metadata": {},
     "output_type": "execute_result"
    }
   ],
   "source": [
    "# dist = numpy.linalg.norm(a-b)\n",
    "def mindist(clcenter, company):\n",
    "    dist = []\n",
    "    for co in company:\n",
    "        dist.append(np.linalg.norm(co - clcenter))\n",
    "    return np.min(dist)\n",
    "# mindist = np.vectorize(mindist)\n",
    "distances = []\n",
    "for cl in model.cluster_centers_:\n",
    "    distances.append(mindist(cl, company))\n",
    "# mindist(model.cluster_centers_[0], company)\n",
    "distances = np.array(distances)\n",
    "distances[:10]"
   ]
  },
  {
   "cell_type": "code",
   "execution_count": 12,
   "metadata": {
    "collapsed": false
   },
   "outputs": [
    {
     "data": {
      "text/plain": [
       "array([ 251,  337,   48,   47,  250, 2738,   21, 2761, 2261,   88,   85,\n",
       "       2982, 1807, 2343, 1239,  430, 3232, 3224,   33,   50], dtype=int64)"
      ]
     },
     "execution_count": 12,
     "metadata": {},
     "output_type": "execute_result"
    }
   ],
   "source": [
    "# np.linalg.norm(company[2] - model.cluster_centers_[0])\n",
    "ind = np.argsort(distances)[:20]\n",
    "ind\n",
    "# distances[411]"
   ]
  },
  {
   "cell_type": "code",
   "execution_count": 13,
   "metadata": {
    "collapsed": false
   },
   "outputs": [
    {
     "data": {
      "text/plain": [
       "array([[ -3.38600000e+01,   1.51210000e+02],\n",
       "       [  5.23700000e+01,   4.89000000e+00],\n",
       "       [  5.15000000e+01,  -1.30000000e-01],\n",
       "       [  3.38100000e+01,  -1.18150000e+02],\n",
       "       [  2.59100000e+01,  -8.02600000e+01],\n",
       "       [  5.13700000e+01,  -1.00000000e-01],\n",
       "       [  2.57900000e+01,  -8.02200000e+01],\n",
       "       [  5.23100000e+01,   4.76000000e+00],\n",
       "       [  5.25000000e+01,   4.96000000e+00],\n",
       "       [  2.60100000e+01,  -8.02000000e+01],\n",
       "       [  3.39000000e+01,  -1.18070000e+02],\n",
       "       [  5.16500000e+01,  -2.00000000e-01],\n",
       "       [  5.23900000e+01,   4.63000000e+00],\n",
       "       [  5.15700000e+01,   1.80000000e-01],\n",
       "       [  5.15800000e+01,  -3.40000000e-01],\n",
       "       [  2.61400000e+01,  -8.03400000e+01],\n",
       "       [  5.22600000e+01,   4.63000000e+00],\n",
       "       [ -3.37800000e+01,   1.50930000e+02],\n",
       "       [  3.39400000e+01,  -1.18410000e+02],\n",
       "       [  2.61100000e+01,  -8.01600000e+01]])"
      ]
     },
     "execution_count": 13,
     "metadata": {},
     "output_type": "execute_result"
    }
   ],
   "source": [
    "coord = model.cluster_centers_[ind]\n",
    "coord = np.round(coord, decimals=2)\n",
    "coord"
   ]
  },
  {
   "cell_type": "code",
   "execution_count": 14,
   "metadata": {
    "collapsed": false
   },
   "outputs": [
    {
     "data": {
      "text/plain": [
       "array([[ -3.38600000e+01,   1.51210000e+02],\n",
       "       [ -3.37800000e+01,   1.50930000e+02],\n",
       "       [  2.57900000e+01,  -8.02200000e+01],\n",
       "       [  2.59100000e+01,  -8.02600000e+01],\n",
       "       [  2.60100000e+01,  -8.02000000e+01],\n",
       "       [  2.61100000e+01,  -8.01600000e+01],\n",
       "       [  2.61400000e+01,  -8.03400000e+01],\n",
       "       [  3.38100000e+01,  -1.18150000e+02],\n",
       "       [  3.39000000e+01,  -1.18070000e+02],\n",
       "       [  3.39400000e+01,  -1.18410000e+02],\n",
       "       [  5.13700000e+01,  -1.00000000e-01],\n",
       "       [  5.15000000e+01,  -1.30000000e-01],\n",
       "       [  5.15700000e+01,   1.80000000e-01],\n",
       "       [  5.15800000e+01,  -3.40000000e-01],\n",
       "       [  5.16500000e+01,  -2.00000000e-01],\n",
       "       [  5.22600000e+01,   4.63000000e+00],\n",
       "       [  5.23100000e+01,   4.76000000e+00],\n",
       "       [  5.23700000e+01,   4.89000000e+00],\n",
       "       [  5.23900000e+01,   4.63000000e+00],\n",
       "       [  5.25000000e+01,   4.96000000e+00]])"
      ]
     },
     "execution_count": 14,
     "metadata": {},
     "output_type": "execute_result"
    }
   ],
   "source": [
    "# np.sort(coord, axis=0)\n",
    "ind = np.lexsort((coord[:,1],coord[:,0])) \n",
    "coord = coord[ind]\n",
    "coord"
   ]
  },
  {
   "cell_type": "code",
   "execution_count": 15,
   "metadata": {
    "collapsed": false
   },
   "outputs": [
    {
     "data": {
      "text/plain": [
       "array([ -3.38600000e+01,   1.51210000e+02,  -3.37800000e+01,\n",
       "         1.50930000e+02,   2.57900000e+01,  -8.02200000e+01,\n",
       "         2.59100000e+01,  -8.02600000e+01,   2.60100000e+01,\n",
       "        -8.02000000e+01,   2.61100000e+01,  -8.01600000e+01,\n",
       "         2.61400000e+01,  -8.03400000e+01,   3.38100000e+01,\n",
       "        -1.18150000e+02,   3.39000000e+01,  -1.18070000e+02,\n",
       "         3.39400000e+01,  -1.18410000e+02,   5.13700000e+01,\n",
       "        -1.00000000e-01,   5.15000000e+01,  -1.30000000e-01,\n",
       "         5.15700000e+01,   1.80000000e-01,   5.15800000e+01,\n",
       "        -3.40000000e-01,   5.16500000e+01,  -2.00000000e-01,\n",
       "         5.22600000e+01,   4.63000000e+00,   5.23100000e+01,\n",
       "         4.76000000e+00,   5.23700000e+01,   4.89000000e+00,\n",
       "         5.23900000e+01,   4.63000000e+00,   5.25000000e+01,\n",
       "         4.96000000e+00])"
      ]
     },
     "execution_count": 15,
     "metadata": {},
     "output_type": "execute_result"
    }
   ],
   "source": [
    "coord.flatten()"
   ]
  },
  {
   "cell_type": "code",
   "execution_count": 17,
   "metadata": {
    "collapsed": true
   },
   "outputs": [],
   "source": [
    "# def writeans(ans, file):\n",
    "#     with open(file, 'w') as f:\n",
    "#         f.write(str(ans))\n",
    "def writeans(list_pc1):\n",
    "    with open(\"answer111.txt\", \"w\") as fout:\n",
    "        fout.write(\" \".join([str(num) for num in list_pc1]))        "
   ]
  },
  {
   "cell_type": "code",
   "execution_count": 18,
   "metadata": {
    "collapsed": false
   },
   "outputs": [],
   "source": [
    "writeans(coord.flatten())"
   ]
  },
  {
   "cell_type": "code",
   "execution_count": null,
   "metadata": {
    "collapsed": true
   },
   "outputs": [],
   "source": []
  }
 ],
 "metadata": {
  "kernelspec": {
   "display_name": "Python 3",
   "language": "python",
   "name": "python3"
  },
  "language_info": {
   "codemirror_mode": {
    "name": "ipython",
    "version": 3
   },
   "file_extension": ".py",
   "mimetype": "text/x-python",
   "name": "python",
   "nbconvert_exporter": "python",
   "pygments_lexer": "ipython3",
   "version": "3.5.1"
  }
 },
 "nbformat": 4,
 "nbformat_minor": 0
}
