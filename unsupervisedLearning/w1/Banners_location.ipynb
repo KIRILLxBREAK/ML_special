{
 "cells": [
  {
   "cell_type": "markdown",
   "metadata": {},
   "source": [
    "# Размещение баннеров"
   ]
  },
  {
   "cell_type": "code",
   "execution_count": 3,
   "metadata": {
    "collapsed": false
   },
   "outputs": [],
   "source": [
    "import numpy as np\n",
    "import pandas as pd\n",
    "from sklearn.cluster import MeanShift\n",
    "# from geopy.distance import great_circle"
   ]
  },
  {
   "cell_type": "markdown",
   "metadata": {},
   "source": [
    "## Load data"
   ]
  },
  {
   "cell_type": "code",
   "execution_count": 5,
   "metadata": {
    "collapsed": false
   },
   "outputs": [
    {
     "name": "stderr",
     "output_type": "stream",
     "text": [
      "C:\\Users\\Nikolay\\AppData\\Local\\Continuum\\Anaconda3\\envs\\py27\\lib\\site-packages\\IPython\\core\\interactiveshell.py:2723: DtypeWarning: Columns (0) have mixed types. Specify dtype option on import or set low_memory=False.\n",
      "  interactivity=interactivity, compiler=compiler, result=result)\n"
     ]
    }
   ],
   "source": [
    "df = pd.read_csv(\"checkins.dat\", sep='|', na_values = ' ', skiprows = 2, \n",
    "                 names = ['id', 'user_id', 'venue_id', 'latitude', 'longitude', 'created_at'])"
   ]
  },
  {
   "cell_type": "code",
   "execution_count": 6,
   "metadata": {
    "collapsed": false
   },
   "outputs": [
    {
     "data": {
      "text/html": [
       "<div>\n",
       "<table border=\"1\" class=\"dataframe\">\n",
       "  <thead>\n",
       "    <tr style=\"text-align: right;\">\n",
       "      <th></th>\n",
       "      <th>id</th>\n",
       "      <th>user_id</th>\n",
       "      <th>venue_id</th>\n",
       "      <th>latitude</th>\n",
       "      <th>longitude</th>\n",
       "      <th>created_at</th>\n",
       "    </tr>\n",
       "  </thead>\n",
       "  <tbody>\n",
       "    <tr>\n",
       "      <th>0</th>\n",
       "      <td>984301</td>\n",
       "      <td>2041916.0</td>\n",
       "      <td>5222.0</td>\n",
       "      <td></td>\n",
       "      <td></td>\n",
       "      <td>2012-04-21 17:39:01</td>\n",
       "    </tr>\n",
       "    <tr>\n",
       "      <th>1</th>\n",
       "      <td>984222</td>\n",
       "      <td>15824.0</td>\n",
       "      <td>5222.0</td>\n",
       "      <td>38.8951118</td>\n",
       "      <td>-77.0363658</td>\n",
       "      <td>2012-04-21 17:43:47</td>\n",
       "    </tr>\n",
       "    <tr>\n",
       "      <th>2</th>\n",
       "      <td>984315</td>\n",
       "      <td>1764391.0</td>\n",
       "      <td>5222.0</td>\n",
       "      <td></td>\n",
       "      <td></td>\n",
       "      <td>2012-04-21 17:37:18</td>\n",
       "    </tr>\n",
       "    <tr>\n",
       "      <th>3</th>\n",
       "      <td>984234</td>\n",
       "      <td>44652.0</td>\n",
       "      <td>5222.0</td>\n",
       "      <td>33.800745</td>\n",
       "      <td>-84.41052</td>\n",
       "      <td>2012-04-21 17:43:43</td>\n",
       "    </tr>\n",
       "    <tr>\n",
       "      <th>4</th>\n",
       "      <td>984249</td>\n",
       "      <td>2146840.0</td>\n",
       "      <td>5222.0</td>\n",
       "      <td></td>\n",
       "      <td></td>\n",
       "      <td>2012-04-21 17:42:58</td>\n",
       "    </tr>\n",
       "  </tbody>\n",
       "</table>\n",
       "</div>"
      ],
      "text/plain": [
       "       id    user_id  venue_id             latitude            longitude  \\\n",
       "0  984301  2041916.0    5222.0                                             \n",
       "1  984222    15824.0    5222.0          38.8951118          -77.0363658    \n",
       "2  984315  1764391.0    5222.0                                             \n",
       "3  984234    44652.0    5222.0           33.800745            -84.41052    \n",
       "4  984249  2146840.0    5222.0                                             \n",
       "\n",
       "             created_at  \n",
       "0   2012-04-21 17:39:01  \n",
       "1   2012-04-21 17:43:47  \n",
       "2   2012-04-21 17:37:18  \n",
       "3   2012-04-21 17:43:43  \n",
       "4   2012-04-21 17:42:58  "
      ]
     },
     "execution_count": 6,
     "metadata": {},
     "output_type": "execute_result"
    }
   ],
   "source": [
    "df.head()"
   ]
  },
  {
   "cell_type": "markdown",
   "metadata": {},
   "source": [
    "## Transforming data"
   ]
  },
  {
   "cell_type": "code",
   "execution_count": 7,
   "metadata": {
    "collapsed": false
   },
   "outputs": [],
   "source": [
    "df.latitude = [str(x).replace(' ', '') for x in df.latitude]\n",
    "df.longitude = [str(x).replace(' ', '') for x in df.longitude]\n",
    "df = df[df.latitude != '']\n",
    "df = df[df.latitude != 'nan']\n",
    "df = df[df.longitude != 'nan']\n",
    "df = df[df.longitude != '']\n",
    "df['latitude'] = df['latitude'].astype('float64')\n",
    "df['longitude'] = df['longitude'].astype('float64')"
   ]
  },
  {
   "cell_type": "code",
   "execution_count": 8,
   "metadata": {
    "collapsed": false
   },
   "outputs": [
    {
     "data": {
      "text/plain": [
       "396634"
      ]
     },
     "execution_count": 8,
     "metadata": {},
     "output_type": "execute_result"
    }
   ],
   "source": [
    "len(df)"
   ]
  },
  {
   "cell_type": "code",
   "execution_count": 9,
   "metadata": {
    "collapsed": false
   },
   "outputs": [
    {
     "data": {
      "text/html": [
       "<div>\n",
       "<table border=\"1\" class=\"dataframe\">\n",
       "  <thead>\n",
       "    <tr style=\"text-align: right;\">\n",
       "      <th></th>\n",
       "      <th>id</th>\n",
       "      <th>user_id</th>\n",
       "      <th>venue_id</th>\n",
       "      <th>latitude</th>\n",
       "      <th>longitude</th>\n",
       "      <th>created_at</th>\n",
       "    </tr>\n",
       "  </thead>\n",
       "  <tbody>\n",
       "    <tr>\n",
       "      <th>1</th>\n",
       "      <td>984222</td>\n",
       "      <td>15824.0</td>\n",
       "      <td>5222.0</td>\n",
       "      <td>38.895112</td>\n",
       "      <td>-77.036366</td>\n",
       "      <td>2012-04-21 17:43:47</td>\n",
       "    </tr>\n",
       "    <tr>\n",
       "      <th>3</th>\n",
       "      <td>984234</td>\n",
       "      <td>44652.0</td>\n",
       "      <td>5222.0</td>\n",
       "      <td>33.800745</td>\n",
       "      <td>-84.410520</td>\n",
       "      <td>2012-04-21 17:43:43</td>\n",
       "    </tr>\n",
       "    <tr>\n",
       "      <th>7</th>\n",
       "      <td>984291</td>\n",
       "      <td>105054.0</td>\n",
       "      <td>5222.0</td>\n",
       "      <td>45.523452</td>\n",
       "      <td>-122.676207</td>\n",
       "      <td>2012-04-21 17:39:22</td>\n",
       "    </tr>\n",
       "    <tr>\n",
       "      <th>9</th>\n",
       "      <td>984318</td>\n",
       "      <td>2146539.0</td>\n",
       "      <td>5222.0</td>\n",
       "      <td>40.764462</td>\n",
       "      <td>-111.904565</td>\n",
       "      <td>2012-04-21 17:35:46</td>\n",
       "    </tr>\n",
       "    <tr>\n",
       "      <th>10</th>\n",
       "      <td>984232</td>\n",
       "      <td>93870.0</td>\n",
       "      <td>380645.0</td>\n",
       "      <td>33.448377</td>\n",
       "      <td>-112.074037</td>\n",
       "      <td>2012-04-21 17:38:18</td>\n",
       "    </tr>\n",
       "  </tbody>\n",
       "</table>\n",
       "</div>"
      ],
      "text/plain": [
       "        id    user_id  venue_id   latitude   longitude            created_at\n",
       "1   984222    15824.0    5222.0  38.895112  -77.036366   2012-04-21 17:43:47\n",
       "3   984234    44652.0    5222.0  33.800745  -84.410520   2012-04-21 17:43:43\n",
       "7   984291   105054.0    5222.0  45.523452 -122.676207   2012-04-21 17:39:22\n",
       "9   984318  2146539.0    5222.0  40.764462 -111.904565   2012-04-21 17:35:46\n",
       "10  984232    93870.0  380645.0  33.448377 -112.074037   2012-04-21 17:38:18"
      ]
     },
     "execution_count": 9,
     "metadata": {},
     "output_type": "execute_result"
    }
   ],
   "source": [
    "df.head()"
   ]
  },
  {
   "cell_type": "markdown",
   "metadata": {},
   "source": [
    "## Clustering"
   ]
  },
  {
   "cell_type": "markdown",
   "metadata": {},
   "source": [
    "### Subset first 100k rows"
   ]
  },
  {
   "cell_type": "code",
   "execution_count": 10,
   "metadata": {
    "collapsed": true
   },
   "outputs": [],
   "source": [
    "x = df[['latitude', 'longitude']][:100000]"
   ]
  },
  {
   "cell_type": "markdown",
   "metadata": {},
   "source": [
    "### Train MeanShift"
   ]
  },
  {
   "cell_type": "code",
   "execution_count": 11,
   "metadata": {
    "collapsed": false
   },
   "outputs": [
    {
     "data": {
      "text/plain": [
       "MeanShift(bandwidth=0.1, bin_seeding=False, cluster_all=True, min_bin_freq=1,\n",
       "     n_jobs=1, seeds=None)"
      ]
     },
     "execution_count": 11,
     "metadata": {},
     "output_type": "execute_result"
    }
   ],
   "source": [
    "ms = MeanShift(bandwidth=0.1)\n",
    "ms.fit(x)"
   ]
  },
  {
   "cell_type": "markdown",
   "metadata": {},
   "source": [
    "### Get labels and clusters' centers"
   ]
  },
  {
   "cell_type": "code",
   "execution_count": 12,
   "metadata": {
    "collapsed": false
   },
   "outputs": [
    {
     "data": {
      "text/html": [
       "<div>\n",
       "<table border=\"1\" class=\"dataframe\">\n",
       "  <thead>\n",
       "    <tr style=\"text-align: right;\">\n",
       "      <th></th>\n",
       "      <th>latitude</th>\n",
       "      <th>longitude</th>\n",
       "      <th>labels</th>\n",
       "    </tr>\n",
       "  </thead>\n",
       "  <tbody>\n",
       "    <tr>\n",
       "      <th>1</th>\n",
       "      <td>38.895112</td>\n",
       "      <td>-77.036366</td>\n",
       "      <td>5</td>\n",
       "    </tr>\n",
       "    <tr>\n",
       "      <th>3</th>\n",
       "      <td>33.800745</td>\n",
       "      <td>-84.410520</td>\n",
       "      <td>7</td>\n",
       "    </tr>\n",
       "    <tr>\n",
       "      <th>7</th>\n",
       "      <td>45.523452</td>\n",
       "      <td>-122.676207</td>\n",
       "      <td>30</td>\n",
       "    </tr>\n",
       "    <tr>\n",
       "      <th>9</th>\n",
       "      <td>40.764462</td>\n",
       "      <td>-111.904565</td>\n",
       "      <td>66</td>\n",
       "    </tr>\n",
       "    <tr>\n",
       "      <th>10</th>\n",
       "      <td>33.448377</td>\n",
       "      <td>-112.074037</td>\n",
       "      <td>1</td>\n",
       "    </tr>\n",
       "  </tbody>\n",
       "</table>\n",
       "</div>"
      ],
      "text/plain": [
       "     latitude   longitude  labels\n",
       "1   38.895112  -77.036366       5\n",
       "3   33.800745  -84.410520       7\n",
       "7   45.523452 -122.676207      30\n",
       "9   40.764462 -111.904565      66\n",
       "10  33.448377 -112.074037       1"
      ]
     },
     "execution_count": 12,
     "metadata": {},
     "output_type": "execute_result"
    }
   ],
   "source": [
    "labels = ms.labels_\n",
    "cluster_centers = ms.cluster_centers_\n",
    "x['labels'] = labels\n",
    "x.head()"
   ]
  },
  {
   "cell_type": "markdown",
   "metadata": {},
   "source": [
    "### Counting unique clusters"
   ]
  },
  {
   "cell_type": "code",
   "execution_count": 13,
   "metadata": {
    "collapsed": false
   },
   "outputs": [
    {
     "data": {
      "text/plain": [
       "3229"
      ]
     },
     "execution_count": 13,
     "metadata": {},
     "output_type": "execute_result"
    }
   ],
   "source": [
    "labels_unique = np.unique(labels)\n",
    "n_clusters_ = len(labels_unique)\n",
    "n_clusters_"
   ]
  },
  {
   "cell_type": "markdown",
   "metadata": {},
   "source": [
    "### Subset clusters with more than 15 items"
   ]
  },
  {
   "cell_type": "code",
   "execution_count": 15,
   "metadata": {
    "collapsed": false
   },
   "outputs": [],
   "source": [
    "idx = x['labels'].value_counts()\n",
    "good_labels = idx.index[idx > 15]\n",
    "cluster_centers = cluster_centers[good_labels]"
   ]
  },
  {
   "cell_type": "markdown",
   "metadata": {},
   "source": [
    "### Add offices locations"
   ]
  },
  {
   "cell_type": "code",
   "execution_count": 16,
   "metadata": {
    "collapsed": true
   },
   "outputs": [],
   "source": [
    "office = np.array([[33.751277, -118.188740],[25.867736, -80.324116],[51.503016, -0.075479], [52.378894, 4.885084],\n",
    "                   [39.366487, 117.036146], [-33.868457, 151.205134]])"
   ]
  },
  {
   "cell_type": "markdown",
   "metadata": {},
   "source": [
    "### Calculate distance"
   ]
  },
  {
   "cell_type": "code",
   "execution_count": 217,
   "metadata": {
    "collapsed": false
   },
   "outputs": [],
   "source": [
    "store_dist = []\n",
    "for i in cluster_centers:\n",
    "    for j in office:\n",
    "        store_dist.append([great_circle(i, j).miles, i])"
   ]
  },
  {
   "cell_type": "code",
   "execution_count": 18,
   "metadata": {
    "collapsed": false
   },
   "outputs": [],
   "source": [
    "from math import radians, cos, sin, asin, sqrt\n",
    "def haversine(lon1, lat1, lon2, lat2):\n",
    "    \"\"\"\n",
    "    Calculate the great circle distance between two points \n",
    "    on the earth (specified in decimal degrees)\n",
    "    \"\"\"\n",
    "    # convert decimal degrees to radians \n",
    "    lon1, lat1, lon2, lat2 = map(radians, [lon1, lat1, lon2, lat2])\n",
    "    # haversine formula \n",
    "    dlon = lon2 - lon1 \n",
    "    dlat = lat2 - lat1 \n",
    "    a = sin(dlat/2)**2 + cos(lat1) * cos(lat2) * sin(dlon/2)**2\n",
    "    c = 2 * asin(sqrt(a)) \n",
    "    km = 6367 * c\n",
    "    return km\n",
    "\n",
    "store_dist = []\n",
    "for cl in cluster_centers:\n",
    "#     mdist = []\n",
    "    for co in office:\n",
    "        store_dist.append([haversine(cl[1], cl[0], co[1], co[0]), cl])"
   ]
  },
  {
   "cell_type": "markdown",
   "metadata": {},
   "source": [
    "### Sort by miles from offices"
   ]
  },
  {
   "cell_type": "code",
   "execution_count": 19,
   "metadata": {
    "collapsed": false
   },
   "outputs": [],
   "source": [
    "store_dist.sort()"
   ]
  },
  {
   "cell_type": "markdown",
   "metadata": {},
   "source": [
    "### Subset twenty closest locations and sort them"
   ]
  },
  {
   "cell_type": "code",
   "execution_count": 248,
   "metadata": {
    "collapsed": false
   },
   "outputs": [
    {
     "data": {
      "text/plain": [
       "[array([ -33.86063043,  151.20477593]),\n",
       " array([ 25.70534972, -80.28342874]),\n",
       " array([ 25.78581242, -80.21793804]),\n",
       " array([ 25.84567226, -80.3188906 ]),\n",
       " array([ 26.01009825, -80.19999059]),\n",
       " array([ 26.12086266, -80.15890668]),\n",
       " array([ 26.13884379, -80.33434684]),\n",
       " array([ 26.20058464, -80.25071613]),\n",
       " array([  33.65089599, -117.75207397]),\n",
       " array([  33.67430266, -117.85878927]),\n",
       " array([  33.80987796, -118.14892381]),\n",
       " array([  33.81730643, -117.89124917]),\n",
       " array([  33.87298601, -118.36209115]),\n",
       " array([  33.88832534, -118.04892817]),\n",
       " array([  33.97257482, -118.16837067]),\n",
       " array([  33.98393587, -118.00740497]),\n",
       " array([  34.03548695, -118.43899772]),\n",
       " array([  34.06039755, -118.24870903]),\n",
       " array([ 51.50299126,  -0.12553729]),\n",
       " array([ 52.37296399,   4.89231722])]"
      ]
     },
     "execution_count": 248,
     "metadata": {},
     "output_type": "execute_result"
    }
   ],
   "source": [
    "##ORIGIN ANSWER\n",
    "answer = [x[1] for x in store_dist[:20]]\n",
    "answer.sort(key=lambda x: x[0])\n",
    "answer"
   ]
  },
  {
   "cell_type": "code",
   "execution_count": 20,
   "metadata": {
    "collapsed": false
   },
   "outputs": [
    {
     "data": {
      "text/plain": [
       "[array([ -33.86063043,  151.20477593]),\n",
       " array([ 25.70534972, -80.28342874]),\n",
       " array([ 25.78581242, -80.21793804]),\n",
       " array([ 25.84567226, -80.3188906 ]),\n",
       " array([ 26.01009825, -80.19999059]),\n",
       " array([ 26.12086266, -80.15890668]),\n",
       " array([ 26.13884379, -80.33434684]),\n",
       " array([ 26.20058464, -80.25071613]),\n",
       " array([  33.65089599, -117.75207397]),\n",
       " array([  33.67430266, -117.85878927]),\n",
       " array([  33.80987796, -118.14892381]),\n",
       " array([  33.81730643, -117.89124917]),\n",
       " array([  33.87298601, -118.36209115]),\n",
       " array([  33.88832534, -118.04892817]),\n",
       " array([  33.97257482, -118.16837067]),\n",
       " array([  33.98393587, -118.00740497]),\n",
       " array([  34.03548695, -118.43899772]),\n",
       " array([  34.06039755, -118.24870903]),\n",
       " array([ 51.50299126,  -0.12553729]),\n",
       " array([ 52.37296399,   4.89231722])]"
      ]
     },
     "execution_count": 20,
     "metadata": {},
     "output_type": "execute_result"
    }
   ],
   "source": [
    "##MY ANSWER:\n",
    "answer = [x[1] for x in store_dist[:20]]\n",
    "answer.sort(key=lambda x: x[0])\n",
    "answer"
   ]
  },
  {
   "cell_type": "markdown",
   "metadata": {},
   "source": [
    "### Write answer"
   ]
  },
  {
   "cell_type": "code",
   "execution_count": 21,
   "metadata": {
    "collapsed": false
   },
   "outputs": [],
   "source": [
    "final = ''\n",
    "for i in range(0,20):\n",
    "    for j in range(0,2):\n",
    "        final += ' ' + str(answer[i][j])"
   ]
  },
  {
   "cell_type": "code",
   "execution_count": 22,
   "metadata": {
    "collapsed": false
   },
   "outputs": [],
   "source": [
    "text_file = open(\"answer_comb.txt\", \"w\")\n",
    "text_file.write(final.strip())\n",
    "text_file.close()"
   ]
  },
  {
   "cell_type": "code",
   "execution_count": 23,
   "metadata": {
    "collapsed": false
   },
   "outputs": [
    {
     "data": {
      "text/plain": [
       "'-33.8606304286 151.204775929 25.7053497211 -80.2834287382 25.78581242 -80.2179380368 25.8456722643 -80.3188905964 26.0100982493 -80.1999905857 26.1208626586 -80.1589066802 26.1388437868 -80.3343468368 26.200584641 -80.2507161256 33.6508959929 -117.752073973 33.6743026598 -117.858789268 33.8098779553 -118.148923807 33.8173064339 -117.891249171 33.8729860116 -118.362091147 33.8883253428 -118.048928172 33.9725748214 -118.168370667 33.983935874 -118.007404973 34.0354869531 -118.438997719 34.0603975546 -118.248709027 51.5029912609 -0.12553728871 52.3729639903 4.89231722258'"
      ]
     },
     "execution_count": 23,
     "metadata": {},
     "output_type": "execute_result"
    }
   ],
   "source": [
    "final.strip()"
   ]
  },
  {
   "cell_type": "code",
   "execution_count": 26,
   "metadata": {
    "collapsed": false
   },
   "outputs": [],
   "source": [
    "def writeans(list_pc1):\n",
    "    with open(\"answer_comb.txt\", \"w\") as fout:\n",
    "        fout.write(\" \".join([str(num) for num in list_pc1]))        \n",
    "writeans(np.array(answer).flatten())"
   ]
  },
  {
   "cell_type": "code",
   "execution_count": 27,
   "metadata": {
    "collapsed": false
   },
   "outputs": [
    {
     "data": {
      "text/plain": [
       "array([ 16.14371999,   6.19395917,   6.29424146,   5.77204798,\n",
       "        17.59857982,  13.42413138,   6.37826249,   8.885426  ,\n",
       "        18.91220169,  14.46122737])"
      ]
     },
     "execution_count": 27,
     "metadata": {},
     "output_type": "execute_result"
    }
   ],
   "source": [
    "###ANOTHER WAY\n",
    "def mindist(clcenter, company):\n",
    "    dist = []\n",
    "    for co in company:\n",
    "        dist.append(np.linalg.norm(co - clcenter))\n",
    "    return np.min(dist)\n",
    "\n",
    "distances = []\n",
    "for cl in cluster_centers:\n",
    "    distances.append(mindist(cl, office))\n",
    "# mindist(model.cluster_centers_[0], company)\n",
    "distances = np.array(distances)\n",
    "distances[:10]"
   ]
  },
  {
   "cell_type": "code",
   "execution_count": 29,
   "metadata": {
    "collapsed": false
   },
   "outputs": [
    {
     "data": {
      "text/plain": [
       "array([400, 366, 390,  57,  52,  30, 146,  86, 120,  39, 312, 303, 159,\n",
       "        58,  29,  11,  34, 279,  25,  53], dtype=int64)"
      ]
     },
     "execution_count": 29,
     "metadata": {},
     "output_type": "execute_result"
    }
   ],
   "source": [
    "ind = np.argsort(distances)[:20]\n",
    "ind"
   ]
  },
  {
   "cell_type": "code",
   "execution_count": 31,
   "metadata": {
    "collapsed": false
   },
   "outputs": [
    {
     "data": {
      "text/plain": [
       "array([[ -3.38600000e+01,   1.51200000e+02],\n",
       "       [  5.23700000e+01,   4.89000000e+00],\n",
       "       [  2.58500000e+01,  -8.03200000e+01],\n",
       "       [  5.15000000e+01,  -1.30000000e-01],\n",
       "       [  3.38100000e+01,  -1.18150000e+02],\n",
       "       [  2.57900000e+01,  -8.02200000e+01],\n",
       "       [  2.57100000e+01,  -8.02800000e+01],\n",
       "       [  2.60100000e+01,  -8.02000000e+01],\n",
       "       [  3.38900000e+01,  -1.18050000e+02],\n",
       "       [  3.38700000e+01,  -1.18360000e+02],\n",
       "       [  3.39700000e+01,  -1.18170000e+02],\n",
       "       [  2.61400000e+01,  -8.03300000e+01],\n",
       "       [  3.39800000e+01,  -1.18010000e+02],\n",
       "       [  2.61200000e+01,  -8.01600000e+01],\n",
       "       [  3.38200000e+01,  -1.17890000e+02],\n",
       "       [  3.40600000e+01,  -1.18250000e+02],\n",
       "       [  3.36700000e+01,  -1.17860000e+02],\n",
       "       [  2.62000000e+01,  -8.02500000e+01],\n",
       "       [  3.40400000e+01,  -1.18440000e+02],\n",
       "       [  3.41300000e+01,  -1.18120000e+02]])"
      ]
     },
     "execution_count": 31,
     "metadata": {},
     "output_type": "execute_result"
    }
   ],
   "source": [
    "coord = cluster_centers[ind]\n",
    "coord = np.round(coord, decimals=2)\n",
    "coord"
   ]
  },
  {
   "cell_type": "code",
   "execution_count": 32,
   "metadata": {
    "collapsed": false
   },
   "outputs": [
    {
     "data": {
      "text/plain": [
       "array([[ -3.38600000e+01,   1.51200000e+02],\n",
       "       [  2.57100000e+01,  -8.02800000e+01],\n",
       "       [  2.57900000e+01,  -8.02200000e+01],\n",
       "       [  2.58500000e+01,  -8.03200000e+01],\n",
       "       [  2.60100000e+01,  -8.02000000e+01],\n",
       "       [  2.61200000e+01,  -8.01600000e+01],\n",
       "       [  2.61400000e+01,  -8.03300000e+01],\n",
       "       [  2.62000000e+01,  -8.02500000e+01],\n",
       "       [  3.36700000e+01,  -1.17860000e+02],\n",
       "       [  3.38100000e+01,  -1.18150000e+02],\n",
       "       [  3.38200000e+01,  -1.17890000e+02],\n",
       "       [  3.38700000e+01,  -1.18360000e+02],\n",
       "       [  3.38900000e+01,  -1.18050000e+02],\n",
       "       [  3.39700000e+01,  -1.18170000e+02],\n",
       "       [  3.39800000e+01,  -1.18010000e+02],\n",
       "       [  3.40400000e+01,  -1.18440000e+02],\n",
       "       [  3.40600000e+01,  -1.18250000e+02],\n",
       "       [  3.41300000e+01,  -1.18120000e+02],\n",
       "       [  5.15000000e+01,  -1.30000000e-01],\n",
       "       [  5.23700000e+01,   4.89000000e+00]])"
      ]
     },
     "execution_count": 32,
     "metadata": {},
     "output_type": "execute_result"
    }
   ],
   "source": [
    "ind = np.lexsort((coord[:,1],coord[:,0])) \n",
    "coord = coord[ind]\n",
    "coord"
   ]
  },
  {
   "cell_type": "code",
   "execution_count": 33,
   "metadata": {
    "collapsed": true
   },
   "outputs": [],
   "source": [
    "writeans(coord.flatten())"
   ]
  },
  {
   "cell_type": "code",
   "execution_count": null,
   "metadata": {
    "collapsed": true
   },
   "outputs": [],
   "source": []
  }
 ],
 "metadata": {
  "kernelspec": {
   "display_name": "Python 2",
   "language": "python",
   "name": "python2"
  },
  "language_info": {
   "codemirror_mode": {
    "name": "ipython",
    "version": 2
   },
   "file_extension": ".py",
   "mimetype": "text/x-python",
   "name": "python",
   "nbconvert_exporter": "python",
   "pygments_lexer": "ipython2",
   "version": "2.7.11"
  }
 },
 "nbformat": 4,
 "nbformat_minor": 0
}
