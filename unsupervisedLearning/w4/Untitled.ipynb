{
 "cells": [
  {
   "cell_type": "code",
   "execution_count": 4,
   "metadata": {
    "collapsed": false
   },
   "outputs": [
    {
     "name": "stdout",
     "output_type": "stream",
     "text": [
      "{u'cuisine': u'greek', u'id': 10259, u'ingredients': [u'romaine lettuce', u'black olives', u'grape tomatoes', u'garlic', u'pepper', u'purple onion', u'seasoning', u'garbanzo beans', u'feta cheese crumbles']}\n",
      "[u'romaine lettuce', u'black olives', u'grape tomatoes', u'garlic', u'pepper', u'purple onion', u'seasoning', u'garbanzo beans', u'feta cheese crumbles']\n",
      "[(0, 1), (1, 1), (2, 1), (3, 1), (4, 1), (5, 1), (6, 1), (7, 1), (8, 1)]\n",
      "salt 20\n",
      "sugar 7\n",
      "water 10\n",
      "mushrooms 1\n",
      "chicken 1\n",
      "eggs 2\n"
     ]
    }
   ],
   "source": [
    "# coding: utf-8\n",
    "\n",
    "# In[3]:\n",
    "\n",
    "import json\n",
    "\n",
    "# In[4]:\n",
    "\n",
    "with open(\"recipes.json\") as f:\n",
    "    recipes = json.load(f)\n",
    "\n",
    "print recipes[0]\n",
    "\n",
    "from gensim import corpora, models\n",
    "import numpy as np\n",
    "\n",
    "texts = [recipe[\"ingredients\"] for recipe in recipes]\n",
    "dictionary = corpora.Dictionary(texts)   # составляем словарь\n",
    "corpus = [dictionary.doc2bow(text) for text in texts]  # составляем корпус документов\n",
    "\n",
    "print texts[0]\n",
    "print corpus[0]\n",
    "\n",
    "np.random.seed(76543)\n",
    "\n",
    "lda = models.LdaModel(corpus=corpus, num_topics=40, passes=5)\n",
    "\n",
    "res = lda.show_topics(num_topics=40, num_words=10, formatted=False)\n",
    "\n",
    "from collections import Counter\n",
    "\n",
    "ids = Counter()\n",
    "\n",
    "for topic in res:\n",
    "    for pair in topic[1]:\n",
    "        ids[pair[0]] += 1\n",
    "\n",
    "ings = [\"salt\", \"sugar\", \"water\", \"mushrooms\", \"chicken\", \"eggs\"]\n",
    "for ing in ings:\n",
    "    i = dictionary.token2id[ing]\n",
    "    print ing, ids[str(i)]\n",
    "\n",
    "# In[ ]:"
   ]
  },
  {
   "cell_type": "code",
   "execution_count": 6,
   "metadata": {
    "collapsed": false
   },
   "outputs": [
    {
     "data": {
      "text/plain": [
       "'0.12.4'"
      ]
     },
     "execution_count": 6,
     "metadata": {},
     "output_type": "execute_result"
    }
   ],
   "source": [
    "import gensim\n",
    "gensim.__version__"
   ]
  },
  {
   "cell_type": "code",
   "execution_count": null,
   "metadata": {
    "collapsed": true
   },
   "outputs": [],
   "source": []
  }
 ],
 "metadata": {
  "kernelspec": {
   "display_name": "Python 2",
   "language": "python",
   "name": "python2"
  },
  "language_info": {
   "codemirror_mode": {
    "name": "ipython",
    "version": 2
   },
   "file_extension": ".py",
   "mimetype": "text/x-python",
   "name": "python",
   "nbconvert_exporter": "python",
   "pygments_lexer": "ipython2",
   "version": "2.7.11"
  }
 },
 "nbformat": 4,
 "nbformat_minor": 0
}
