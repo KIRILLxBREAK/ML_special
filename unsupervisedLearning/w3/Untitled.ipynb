{
 "cells": [
  {
   "cell_type": "code",
   "execution_count": 1,
   "metadata": {
    "collapsed": true
   },
   "outputs": [],
   "source": [
    "import pandas as pd\n",
    "from sklearn.cluster import MeanShift\n",
    "import numpy as np\n",
    "from math import radians, cos, sin, asin, sqrt"
   ]
  },
  {
   "cell_type": "code",
   "execution_count": 2,
   "metadata": {
    "collapsed": false
   },
   "outputs": [
    {
     "name": "stderr",
     "output_type": "stream",
     "text": [
      "C:\\Users\\Nikolay\\AppData\\Local\\Continuum\\Anaconda3\\envs\\py35\\lib\\site-packages\\IPython\\core\\interactiveshell.py:2723: DtypeWarning: Columns (0) have mixed types. Specify dtype option on import or set low_memory=False.\n",
      "  interactivity=interactivity, compiler=compiler, result=result)\n"
     ]
    }
   ],
   "source": [
    "data = pd.read_csv(\"checkins.dat\", sep='|', na_values='                   ')\n",
    "data.columns = data.columns.str.strip()\n",
    "# x = df.replace(r'\\s+', None, regex=True)\n",
    "# with open('checkins.dat','r') as f:\n",
    "#     next(f) # skip first row\n",
    "#     df = pd.DataFrame(l.rstrip().split() for l in f)\n"
   ]
  },
  {
   "cell_type": "code",
   "execution_count": 3,
   "metadata": {
    "collapsed": false
   },
   "outputs": [],
   "source": [
    "# df.columns = df.columns = df.columns.str.strip()\n",
    "# df['latitude'].ix[3]\n",
    "df = data.dropna()"
   ]
  },
  {
   "cell_type": "code",
   "execution_count": 4,
   "metadata": {
    "collapsed": false
   },
   "outputs": [
    {
     "name": "stdout",
     "output_type": "stream",
     "text": [
      "396634\n"
     ]
    },
    {
     "data": {
      "text/html": [
       "<div>\n",
       "<table border=\"1\" class=\"dataframe\">\n",
       "  <thead>\n",
       "    <tr style=\"text-align: right;\">\n",
       "      <th></th>\n",
       "      <th>id</th>\n",
       "      <th>user_id</th>\n",
       "      <th>venue_id</th>\n",
       "      <th>latitude</th>\n",
       "      <th>longitude</th>\n",
       "      <th>created_at</th>\n",
       "    </tr>\n",
       "  </thead>\n",
       "  <tbody>\n",
       "    <tr>\n",
       "      <th>2</th>\n",
       "      <td>984222</td>\n",
       "      <td>15824</td>\n",
       "      <td>5222</td>\n",
       "      <td>38.895112</td>\n",
       "      <td>-77.036366</td>\n",
       "      <td>2012-04-21 17:43:47</td>\n",
       "    </tr>\n",
       "    <tr>\n",
       "      <th>4</th>\n",
       "      <td>984234</td>\n",
       "      <td>44652</td>\n",
       "      <td>5222</td>\n",
       "      <td>33.800745</td>\n",
       "      <td>-84.410520</td>\n",
       "      <td>2012-04-21 17:43:43</td>\n",
       "    </tr>\n",
       "    <tr>\n",
       "      <th>8</th>\n",
       "      <td>984291</td>\n",
       "      <td>105054</td>\n",
       "      <td>5222</td>\n",
       "      <td>45.523452</td>\n",
       "      <td>-122.676207</td>\n",
       "      <td>2012-04-21 17:39:22</td>\n",
       "    </tr>\n",
       "    <tr>\n",
       "      <th>10</th>\n",
       "      <td>984318</td>\n",
       "      <td>2146539</td>\n",
       "      <td>5222</td>\n",
       "      <td>40.764462</td>\n",
       "      <td>-111.904565</td>\n",
       "      <td>2012-04-21 17:35:46</td>\n",
       "    </tr>\n",
       "    <tr>\n",
       "      <th>11</th>\n",
       "      <td>984232</td>\n",
       "      <td>93870</td>\n",
       "      <td>380645</td>\n",
       "      <td>33.448377</td>\n",
       "      <td>-112.074037</td>\n",
       "      <td>2012-04-21 17:38:18</td>\n",
       "    </tr>\n",
       "  </tbody>\n",
       "</table>\n",
       "</div>"
      ],
      "text/plain": [
       "           id  user_id  venue_id   latitude   longitude            created_at\n",
       "2     984222     15824      5222  38.895112  -77.036366   2012-04-21 17:43:47\n",
       "4     984234     44652      5222  33.800745  -84.410520   2012-04-21 17:43:43\n",
       "8     984291    105054      5222  45.523452 -122.676207   2012-04-21 17:39:22\n",
       "10    984318   2146539      5222  40.764462 -111.904565   2012-04-21 17:35:46\n",
       "11    984232     93870    380645  33.448377 -112.074037   2012-04-21 17:38:18"
      ]
     },
     "execution_count": 4,
     "metadata": {},
     "output_type": "execute_result"
    }
   ],
   "source": [
    "print(len(df))\n",
    "df.head()"
   ]
  },
  {
   "cell_type": "code",
   "execution_count": 5,
   "metadata": {
    "collapsed": false
   },
   "outputs": [],
   "source": [
    "sample = df[['latitude', 'longitude']][:100000]\n",
    "# sample = df[['latitude', 'longitude']].sample(100000)"
   ]
  },
  {
   "cell_type": "code",
   "execution_count": 6,
   "metadata": {
    "collapsed": false
   },
   "outputs": [],
   "source": [
    "model = MeanShift(bandwidth=0.1)\n",
    "clusters = model.fit_predict(sample)"
   ]
  },
  {
   "cell_type": "code",
   "execution_count": 7,
   "metadata": {
    "collapsed": false
   },
   "outputs": [
    {
     "data": {
      "text/plain": [
       "100000"
      ]
     },
     "execution_count": 7,
     "metadata": {},
     "output_type": "execute_result"
    }
   ],
   "source": [
    "len(clusters)"
   ]
  },
  {
   "cell_type": "code",
   "execution_count": 8,
   "metadata": {
    "collapsed": false
   },
   "outputs": [],
   "source": [
    "cl = pd.Series(clusters, name='cluster')\n",
    "counts = cl.value_counts()\n",
    "clusters = counts.index[counts.values>15]"
   ]
  },
  {
   "cell_type": "code",
   "execution_count": 9,
   "metadata": {
    "collapsed": false
   },
   "outputs": [],
   "source": [
    "company = [\n",
    "    [33.751277, -118.188740], [25.867736, -80.324116], [51.503016, -0.075479],\n",
    "    [52.378894, 4.885084], [39.366487, 117.036146], [-33.868457, 151.205134]\n",
    "]\n",
    "company = np.array(company)"
   ]
  },
  {
   "cell_type": "code",
   "execution_count": 10,
   "metadata": {
    "collapsed": false
   },
   "outputs": [
    {
     "data": {
      "text/plain": [
       "array([[  40.7177164 ,  -73.99183542],\n",
       "       [  33.44943805, -112.00213969],\n",
       "       [  33.44638027, -111.90188756],\n",
       "       ..., \n",
       "       [  44.9592231 ,  -70.1539542 ],\n",
       "       [  10.473523  ,  -84.0167423 ],\n",
       "       [  40.7694969 ,  -83.8227148 ]])"
      ]
     },
     "execution_count": 10,
     "metadata": {},
     "output_type": "execute_result"
    }
   ],
   "source": [
    "model.cluster_centers_"
   ]
  },
  {
   "cell_type": "code",
   "execution_count": 11,
   "metadata": {
    "collapsed": false
   },
   "outputs": [
    {
     "data": {
      "text/plain": [
       "array([ 16.14371999,   6.19395917,   6.29424146,  17.59857982,\n",
       "         5.77204798,  13.42413138,   6.37826249,   8.885426  ,\n",
       "        18.91220169,  14.46122737])"
      ]
     },
     "execution_count": 11,
     "metadata": {},
     "output_type": "execute_result"
    }
   ],
   "source": [
    "# dist = numpy.linalg.norm(a-b)\n",
    "def mindist(clcenter, company):\n",
    "    dist = []\n",
    "    for co in company:\n",
    "        dist.append(np.linalg.norm(co - clcenter))\n",
    "    return np.min(dist)\n",
    "# mindist = np.vectorize(mindist)\n",
    "distances = []\n",
    "for cl in model.cluster_centers_:\n",
    "    distances.append(mindist(cl, company))\n",
    "# mindist(model.cluster_centers_[0], company)\n",
    "distances = np.array(distances)\n",
    "distances[:10]"
   ]
  },
  {
   "cell_type": "code",
   "execution_count": null,
   "metadata": {
    "collapsed": false
   },
   "outputs": [],
   "source": [
    "\n",
    "def haversine(lon1, lat1, lon2, lat2):\n",
    "    \"\"\"\n",
    "    Calculate the great circle distance between two points \n",
    "    on the earth (specified in decimal degrees)\n",
    "    \"\"\"\n",
    "    # convert decimal degrees to radians \n",
    "    lon1, lat1, lon2, lat2 = map(radians, [lon1, lat1, lon2, lat2])\n",
    "    # haversine formula \n",
    "    dlon = lon2 - lon1 \n",
    "    dlat = lat2 - lat1 \n",
    "    a = sin(dlat/2)**2 + cos(lat1) * cos(lat2) * sin(dlon/2)**2\n",
    "    c = 2 * asin(sqrt(a)) \n",
    "    km = 6367 * c\n",
    "    return km\n",
    "\n",
    "distances = []\n",
    "for cl in model.cluster_centers_:\n",
    "#     mdist = []\n",
    "    for co in company:\n",
    "        distances.append([haversine(cl[1], cl[0], co[1], co[0]), cl])\n",
    "#     distances.append(min(mdist))\n",
    "        \n",
    "# mindist(model.cluster_centers_[0], company)\n",
    "# distances = np.array(distances)\n",
    "distances[:10]"
   ]
  },
  {
   "cell_type": "code",
   "execution_count": null,
   "metadata": {
    "collapsed": true
   },
   "outputs": [],
   "source": [
    "distances.sort()"
   ]
  },
  {
   "cell_type": "code",
   "execution_count": 12,
   "metadata": {
    "collapsed": false
   },
   "outputs": [
    {
     "ename": "IndexError",
     "evalue": "invalid index to scalar variable.",
     "output_type": "error",
     "traceback": [
      "\u001b[1;31m---------------------------------------------------------------------------\u001b[0m",
      "\u001b[1;31mIndexError\u001b[0m                                Traceback (most recent call last)",
      "\u001b[1;32m<ipython-input-12-7bbef1db528f>\u001b[0m in \u001b[0;36m<module>\u001b[1;34m()\u001b[0m\n\u001b[1;32m----> 1\u001b[1;33m \u001b[0manswer\u001b[0m \u001b[1;33m=\u001b[0m \u001b[1;33m[\u001b[0m\u001b[0mx\u001b[0m\u001b[1;33m[\u001b[0m\u001b[1;36m1\u001b[0m\u001b[1;33m]\u001b[0m \u001b[1;32mfor\u001b[0m \u001b[0mx\u001b[0m \u001b[1;32min\u001b[0m \u001b[0mdistances\u001b[0m\u001b[1;33m[\u001b[0m\u001b[1;33m:\u001b[0m\u001b[1;36m20\u001b[0m\u001b[1;33m]\u001b[0m\u001b[1;33m]\u001b[0m\u001b[1;33m\u001b[0m\u001b[0m\n\u001b[0m\u001b[0;32m      2\u001b[0m \u001b[0manswer\u001b[0m\u001b[1;33m.\u001b[0m\u001b[0msort\u001b[0m\u001b[1;33m(\u001b[0m\u001b[0mkey\u001b[0m\u001b[1;33m=\u001b[0m\u001b[1;32mlambda\u001b[0m \u001b[0mx\u001b[0m\u001b[1;33m:\u001b[0m \u001b[0mx\u001b[0m\u001b[1;33m[\u001b[0m\u001b[1;36m0\u001b[0m\u001b[1;33m]\u001b[0m\u001b[1;33m)\u001b[0m\u001b[1;33m\u001b[0m\u001b[0m\n\u001b[0;32m      3\u001b[0m \u001b[0manswer\u001b[0m\u001b[1;33m\u001b[0m\u001b[0m\n",
      "\u001b[1;32m<ipython-input-12-7bbef1db528f>\u001b[0m in \u001b[0;36m<listcomp>\u001b[1;34m(.0)\u001b[0m\n\u001b[1;32m----> 1\u001b[1;33m \u001b[0manswer\u001b[0m \u001b[1;33m=\u001b[0m \u001b[1;33m[\u001b[0m\u001b[0mx\u001b[0m\u001b[1;33m[\u001b[0m\u001b[1;36m1\u001b[0m\u001b[1;33m]\u001b[0m \u001b[1;32mfor\u001b[0m \u001b[0mx\u001b[0m \u001b[1;32min\u001b[0m \u001b[0mdistances\u001b[0m\u001b[1;33m[\u001b[0m\u001b[1;33m:\u001b[0m\u001b[1;36m20\u001b[0m\u001b[1;33m]\u001b[0m\u001b[1;33m]\u001b[0m\u001b[1;33m\u001b[0m\u001b[0m\n\u001b[0m\u001b[0;32m      2\u001b[0m \u001b[0manswer\u001b[0m\u001b[1;33m.\u001b[0m\u001b[0msort\u001b[0m\u001b[1;33m(\u001b[0m\u001b[0mkey\u001b[0m\u001b[1;33m=\u001b[0m\u001b[1;32mlambda\u001b[0m \u001b[0mx\u001b[0m\u001b[1;33m:\u001b[0m \u001b[0mx\u001b[0m\u001b[1;33m[\u001b[0m\u001b[1;36m0\u001b[0m\u001b[1;33m]\u001b[0m\u001b[1;33m)\u001b[0m\u001b[1;33m\u001b[0m\u001b[0m\n\u001b[0;32m      3\u001b[0m \u001b[0manswer\u001b[0m\u001b[1;33m\u001b[0m\u001b[0m\n",
      "\u001b[1;31mIndexError\u001b[0m: invalid index to scalar variable."
     ]
    }
   ],
   "source": [
    "answer = [x[1] for x in distances[:20]]\n",
    "answer.sort(key=lambda x: x[0])\n",
    "answer"
   ]
  },
  {
   "cell_type": "code",
   "execution_count": null,
   "metadata": {
    "collapsed": true
   },
   "outputs": [],
   "source": []
  },
  {
   "cell_type": "code",
   "execution_count": null,
   "metadata": {
    "collapsed": true
   },
   "outputs": [],
   "source": []
  },
  {
   "cell_type": "code",
   "execution_count": null,
   "metadata": {
    "collapsed": false
   },
   "outputs": [],
   "source": [
    "import math\n",
    "def geo_dist(shir_1, dolg_1, shir_2, dolg_2):\n",
    "    # rad - радиус сферы (Земли)\n",
    "    rad = 6372795\n",
    "\n",
    "    #в радианах\n",
    "    lat1 = shir_1*math.pi/180.\n",
    "    lat2 = shir_2*math.pi/180.\n",
    "    long1 = dolg_1*math.pi/180.\n",
    "    long2 = dolg_2*math.pi/180.\n",
    "\n",
    "    #косинусы и синусы широт и разницы долгот\n",
    "    cl1 = math.cos(lat1)\n",
    "    cl2 = math.cos(lat2)\n",
    "    sl1 = math.sin(lat1)\n",
    "    sl2 = math.sin(lat2)\n",
    "    delta = long2 - long1\n",
    "    cdelta = math.cos(delta)\n",
    "    sdelta = math.sin(delta)\n",
    "\n",
    "    #вычисления длины большого круга\n",
    "    y = math.sqrt(math.pow(cl2*sdelta,2)+math.pow(cl1*sl2-sl1*cl2*cdelta,2))\n",
    "    x = sl1*sl2+cl1*cl2*cdelta\n",
    "    ad = math.atan2(y,x)\n",
    "    dist = ad*rad\n",
    "    \n",
    "    return dist\n",
    "\n",
    "distances = []\n",
    "for cl in model.cluster_centers_:\n",
    "    mdist = []\n",
    "    for co in company:\n",
    "        mdist.append(geo_dist(cl[0], cl[1], co[0], co[1]))\n",
    "    distances.append(min(mdist))\n",
    "        \n",
    "# mindist(model.cluster_centers_[0], company)\n",
    "distances = np.array(distances)\n",
    "distances[:10]"
   ]
  },
  {
   "cell_type": "code",
   "execution_count": 15,
   "metadata": {
    "collapsed": false
   },
   "outputs": [
    {
     "data": {
      "text/plain": [
       "0.007834758163107856"
      ]
     },
     "execution_count": 15,
     "metadata": {},
     "output_type": "execute_result"
    }
   ],
   "source": [
    "# np.linalg.norm(company[2] - model.cluster_centers_[0])\n",
    "ind = np.argsort(distances)[:20]\n",
    "ind\n",
    "distances[411]"
   ]
  },
  {
   "cell_type": "code",
   "execution_count": 16,
   "metadata": {
    "collapsed": false
   },
   "outputs": [
    {
     "data": {
      "text/plain": [
       "array([[ -3.38600000e+01,   1.51200000e+02],\n",
       "       [  5.23700000e+01,   4.89000000e+00],\n",
       "       [  2.58500000e+01,  -8.03200000e+01],\n",
       "       [  5.15000000e+01,  -1.30000000e-01],\n",
       "       [  3.38100000e+01,  -1.18150000e+02],\n",
       "       [  2.57900000e+01,  -8.02200000e+01],\n",
       "       [ -3.40000000e+01,   1.51130000e+02],\n",
       "       [  2.57100000e+01,  -8.02800000e+01],\n",
       "       [  2.60100000e+01,  -8.02000000e+01],\n",
       "       [ -3.39500000e+01,   1.51030000e+02],\n",
       "       [  3.38900000e+01,  -1.18050000e+02],\n",
       "       [  3.38700000e+01,  -1.18360000e+02],\n",
       "       [  3.39700000e+01,  -1.18170000e+02],\n",
       "       [  5.14300000e+01,  -3.00000000e-01],\n",
       "       [  5.23900000e+01,   4.63000000e+00],\n",
       "       [  5.15700000e+01,   1.80000000e-01],\n",
       "       [  2.61400000e+01,  -8.03300000e+01],\n",
       "       [  5.22600000e+01,   4.63000000e+00],\n",
       "       [  5.15100000e+01,  -3.70000000e-01],\n",
       "       [  3.39800000e+01,  -1.18010000e+02]])"
      ]
     },
     "execution_count": 16,
     "metadata": {},
     "output_type": "execute_result"
    }
   ],
   "source": [
    "coord = model.cluster_centers_[ind]\n",
    "coord = np.round(coord, decimals=2)\n",
    "coord"
   ]
  },
  {
   "cell_type": "code",
   "execution_count": 17,
   "metadata": {
    "collapsed": false
   },
   "outputs": [
    {
     "data": {
      "text/plain": [
       "array([[ -3.40000000e+01,   1.51130000e+02],\n",
       "       [ -3.39500000e+01,   1.51030000e+02],\n",
       "       [ -3.38600000e+01,   1.51200000e+02],\n",
       "       [  2.57100000e+01,  -8.02800000e+01],\n",
       "       [  2.57900000e+01,  -8.02200000e+01],\n",
       "       [  2.58500000e+01,  -8.03200000e+01],\n",
       "       [  2.60100000e+01,  -8.02000000e+01],\n",
       "       [  2.61400000e+01,  -8.03300000e+01],\n",
       "       [  3.38100000e+01,  -1.18150000e+02],\n",
       "       [  3.38700000e+01,  -1.18360000e+02],\n",
       "       [  3.38900000e+01,  -1.18050000e+02],\n",
       "       [  3.39700000e+01,  -1.18170000e+02],\n",
       "       [  3.39800000e+01,  -1.18010000e+02],\n",
       "       [  5.14300000e+01,  -3.00000000e-01],\n",
       "       [  5.15000000e+01,  -1.30000000e-01],\n",
       "       [  5.15100000e+01,  -3.70000000e-01],\n",
       "       [  5.15700000e+01,   1.80000000e-01],\n",
       "       [  5.22600000e+01,   4.63000000e+00],\n",
       "       [  5.23700000e+01,   4.89000000e+00],\n",
       "       [  5.23900000e+01,   4.63000000e+00]])"
      ]
     },
     "execution_count": 17,
     "metadata": {},
     "output_type": "execute_result"
    }
   ],
   "source": [
    "# np.sort(coord, axis=0)\n",
    "ind = np.lexsort((coord[:,1],coord[:,0])) \n",
    "coord = coord[ind]\n",
    "coord"
   ]
  },
  {
   "cell_type": "code",
   "execution_count": null,
   "metadata": {
    "collapsed": false
   },
   "outputs": [],
   "source": [
    "coord.flatten()"
   ]
  },
  {
   "cell_type": "code",
   "execution_count": null,
   "metadata": {
    "collapsed": true
   },
   "outputs": [],
   "source": [
    "# def writeans(ans, file):\n",
    "#     with open(file, 'w') as f:\n",
    "#         f.write(str(ans))\n",
    "def writeans(list_pc1):\n",
    "    with open(\"answer222.txt\", \"w\") as fout:\n",
    "        fout.write(\" \".join([str(num) for num in list_pc1]))        "
   ]
  },
  {
   "cell_type": "code",
   "execution_count": null,
   "metadata": {
    "collapsed": false
   },
   "outputs": [],
   "source": [
    "writeans(coord.flatten())"
   ]
  },
  {
   "cell_type": "code",
   "execution_count": null,
   "metadata": {
    "collapsed": false
   },
   "outputs": [],
   "source": [
    "coord"
   ]
  }
 ],
 "metadata": {
  "kernelspec": {
   "display_name": "Python 3",
   "language": "python",
   "name": "python3"
  },
  "language_info": {
   "codemirror_mode": {
    "name": "ipython",
    "version": 3
   },
   "file_extension": ".py",
   "mimetype": "text/x-python",
   "name": "python",
   "nbconvert_exporter": "python",
   "pygments_lexer": "ipython3",
   "version": "3.5.1"
  }
 },
 "nbformat": 4,
 "nbformat_minor": 0
}
