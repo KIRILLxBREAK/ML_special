{
 "cells": [
  {
   "cell_type": "markdown",
   "metadata": {},
   "source": [
    "### Подход 1: градиентный бустинг \"в лоб\"\n",
    "\n",
    "Один из самых универсальных алгоритмов, изученных в нашем курсе, является градиентный бустинг. Он не очень требователен к данным, восстанавливает нелинейные зависимости, и хорошо работает на многих наборах данных, что и обуславливает его популярность. Вполне разумной мыслью будет попробовать именно его в первую очередь.\n",
    "\n",
    "\n",
    "Считайте таблицу с признаками из файла features.csv с помощью кода, приведенного выше. Удалите признаки, связанные с итогами матча (они помечены в описании данных как отсутствующие в тестовой выборке)."
   ]
  },
  {
   "cell_type": "code",
   "execution_count": 1,
   "metadata": {
    "collapsed": true
   },
   "outputs": [],
   "source": [
    "import pandas\n",
    "import numpy as np\n",
    "import time\n",
    "import datetime\n",
    "from sklearn.ensemble import GradientBoostingClassifier\n",
    "from sklearn.cross_validation import KFold, cross_val_score\n",
    "\n",
    "seed = 42"
   ]
  },
  {
   "cell_type": "code",
   "execution_count": 2,
   "metadata": {
    "collapsed": false
   },
   "outputs": [
    {
     "data": {
      "text/html": [
       "<div>\n",
       "<table border=\"1\" class=\"dataframe\">\n",
       "  <thead>\n",
       "    <tr style=\"text-align: right;\">\n",
       "      <th></th>\n",
       "      <th>start_time</th>\n",
       "      <th>lobby_type</th>\n",
       "      <th>r1_hero</th>\n",
       "      <th>r1_level</th>\n",
       "      <th>r1_xp</th>\n",
       "      <th>r1_gold</th>\n",
       "      <th>r1_lh</th>\n",
       "      <th>r1_kills</th>\n",
       "      <th>r1_deaths</th>\n",
       "      <th>r1_items</th>\n",
       "      <th>...</th>\n",
       "      <th>dire_boots_count</th>\n",
       "      <th>dire_ward_observer_count</th>\n",
       "      <th>dire_ward_sentry_count</th>\n",
       "      <th>dire_first_ward_time</th>\n",
       "      <th>duration</th>\n",
       "      <th>radiant_win</th>\n",
       "      <th>tower_status_radiant</th>\n",
       "      <th>tower_status_dire</th>\n",
       "      <th>barracks_status_radiant</th>\n",
       "      <th>barracks_status_dire</th>\n",
       "    </tr>\n",
       "    <tr>\n",
       "      <th>match_id</th>\n",
       "      <th></th>\n",
       "      <th></th>\n",
       "      <th></th>\n",
       "      <th></th>\n",
       "      <th></th>\n",
       "      <th></th>\n",
       "      <th></th>\n",
       "      <th></th>\n",
       "      <th></th>\n",
       "      <th></th>\n",
       "      <th></th>\n",
       "      <th></th>\n",
       "      <th></th>\n",
       "      <th></th>\n",
       "      <th></th>\n",
       "      <th></th>\n",
       "      <th></th>\n",
       "      <th></th>\n",
       "      <th></th>\n",
       "      <th></th>\n",
       "      <th></th>\n",
       "    </tr>\n",
       "  </thead>\n",
       "  <tbody>\n",
       "    <tr>\n",
       "      <th>0</th>\n",
       "      <td>1430198770</td>\n",
       "      <td>7</td>\n",
       "      <td>11</td>\n",
       "      <td>5</td>\n",
       "      <td>2098</td>\n",
       "      <td>1489</td>\n",
       "      <td>20</td>\n",
       "      <td>0</td>\n",
       "      <td>0</td>\n",
       "      <td>7</td>\n",
       "      <td>...</td>\n",
       "      <td>4</td>\n",
       "      <td>2</td>\n",
       "      <td>2</td>\n",
       "      <td>-52</td>\n",
       "      <td>2874</td>\n",
       "      <td>1</td>\n",
       "      <td>1796</td>\n",
       "      <td>0</td>\n",
       "      <td>51</td>\n",
       "      <td>0</td>\n",
       "    </tr>\n",
       "    <tr>\n",
       "      <th>1</th>\n",
       "      <td>1430220345</td>\n",
       "      <td>0</td>\n",
       "      <td>42</td>\n",
       "      <td>4</td>\n",
       "      <td>1188</td>\n",
       "      <td>1033</td>\n",
       "      <td>9</td>\n",
       "      <td>0</td>\n",
       "      <td>1</td>\n",
       "      <td>12</td>\n",
       "      <td>...</td>\n",
       "      <td>4</td>\n",
       "      <td>3</td>\n",
       "      <td>1</td>\n",
       "      <td>-5</td>\n",
       "      <td>2463</td>\n",
       "      <td>1</td>\n",
       "      <td>1974</td>\n",
       "      <td>0</td>\n",
       "      <td>63</td>\n",
       "      <td>1</td>\n",
       "    </tr>\n",
       "    <tr>\n",
       "      <th>2</th>\n",
       "      <td>1430227081</td>\n",
       "      <td>7</td>\n",
       "      <td>33</td>\n",
       "      <td>4</td>\n",
       "      <td>1319</td>\n",
       "      <td>1270</td>\n",
       "      <td>22</td>\n",
       "      <td>0</td>\n",
       "      <td>0</td>\n",
       "      <td>12</td>\n",
       "      <td>...</td>\n",
       "      <td>4</td>\n",
       "      <td>3</td>\n",
       "      <td>1</td>\n",
       "      <td>13</td>\n",
       "      <td>2130</td>\n",
       "      <td>0</td>\n",
       "      <td>0</td>\n",
       "      <td>1830</td>\n",
       "      <td>0</td>\n",
       "      <td>63</td>\n",
       "    </tr>\n",
       "    <tr>\n",
       "      <th>3</th>\n",
       "      <td>1430263531</td>\n",
       "      <td>1</td>\n",
       "      <td>29</td>\n",
       "      <td>4</td>\n",
       "      <td>1779</td>\n",
       "      <td>1056</td>\n",
       "      <td>14</td>\n",
       "      <td>0</td>\n",
       "      <td>0</td>\n",
       "      <td>5</td>\n",
       "      <td>...</td>\n",
       "      <td>4</td>\n",
       "      <td>2</td>\n",
       "      <td>0</td>\n",
       "      <td>27</td>\n",
       "      <td>1459</td>\n",
       "      <td>0</td>\n",
       "      <td>1920</td>\n",
       "      <td>2047</td>\n",
       "      <td>50</td>\n",
       "      <td>63</td>\n",
       "    </tr>\n",
       "    <tr>\n",
       "      <th>4</th>\n",
       "      <td>1430282290</td>\n",
       "      <td>7</td>\n",
       "      <td>13</td>\n",
       "      <td>4</td>\n",
       "      <td>1431</td>\n",
       "      <td>1090</td>\n",
       "      <td>8</td>\n",
       "      <td>1</td>\n",
       "      <td>0</td>\n",
       "      <td>8</td>\n",
       "      <td>...</td>\n",
       "      <td>3</td>\n",
       "      <td>3</td>\n",
       "      <td>0</td>\n",
       "      <td>-16</td>\n",
       "      <td>2449</td>\n",
       "      <td>0</td>\n",
       "      <td>4</td>\n",
       "      <td>1974</td>\n",
       "      <td>3</td>\n",
       "      <td>63</td>\n",
       "    </tr>\n",
       "  </tbody>\n",
       "</table>\n",
       "<p>5 rows × 108 columns</p>\n",
       "</div>"
      ],
      "text/plain": [
       "          start_time  lobby_type  r1_hero  r1_level  r1_xp  r1_gold  r1_lh  \\\n",
       "match_id                                                                     \n",
       "0         1430198770           7       11         5   2098     1489     20   \n",
       "1         1430220345           0       42         4   1188     1033      9   \n",
       "2         1430227081           7       33         4   1319     1270     22   \n",
       "3         1430263531           1       29         4   1779     1056     14   \n",
       "4         1430282290           7       13         4   1431     1090      8   \n",
       "\n",
       "          r1_kills  r1_deaths  r1_items          ...           \\\n",
       "match_id                                         ...            \n",
       "0                0          0         7          ...            \n",
       "1                0          1        12          ...            \n",
       "2                0          0        12          ...            \n",
       "3                0          0         5          ...            \n",
       "4                1          0         8          ...            \n",
       "\n",
       "          dire_boots_count  dire_ward_observer_count  dire_ward_sentry_count  \\\n",
       "match_id                                                                       \n",
       "0                        4                         2                       2   \n",
       "1                        4                         3                       1   \n",
       "2                        4                         3                       1   \n",
       "3                        4                         2                       0   \n",
       "4                        3                         3                       0   \n",
       "\n",
       "          dire_first_ward_time  duration  radiant_win  tower_status_radiant  \\\n",
       "match_id                                                                      \n",
       "0                          -52      2874            1                  1796   \n",
       "1                           -5      2463            1                  1974   \n",
       "2                           13      2130            0                     0   \n",
       "3                           27      1459            0                  1920   \n",
       "4                          -16      2449            0                     4   \n",
       "\n",
       "          tower_status_dire  barracks_status_radiant  barracks_status_dire  \n",
       "match_id                                                                    \n",
       "0                         0                       51                     0  \n",
       "1                         0                       63                     1  \n",
       "2                      1830                        0                    63  \n",
       "3                      2047                       50                    63  \n",
       "4                      1974                        3                    63  \n",
       "\n",
       "[5 rows x 108 columns]"
      ]
     },
     "execution_count": 2,
     "metadata": {},
     "output_type": "execute_result"
    }
   ],
   "source": [
    "features = pandas.read_csv('./data/features.csv', index_col='match_id')\n",
    "features.head()"
   ]
  },
  {
   "cell_type": "code",
   "execution_count": 3,
   "metadata": {
    "collapsed": false
   },
   "outputs": [],
   "source": [
    "#Убираем признаки, отсутствующие в тестовой выборке:\n",
    "X = features.drop(['duration','radiant_win','tower_status_radiant','tower_status_dire','barracks_status_dire',\\\n",
    "                   'barracks_status_radiant'],axis=1)\n"
   ]
  },
  {
   "cell_type": "markdown",
   "metadata": {},
   "source": [
    "Проверьте выборку на наличие пропусков с помощью функции count(), которая для каждого столбца показывает число заполненных значений. Много ли пропусков в данных? Запишите названия признаков, имеющих пропуски, и попробуйте для любых двух из них дать обоснование, почему их значения могут быть пропущены."
   ]
  },
  {
   "cell_type": "code",
   "execution_count": 4,
   "metadata": {
    "collapsed": false
   },
   "outputs": [
    {
     "data": {
      "text/plain": [
       "first_blood_time               77677\n",
       "first_blood_team               77677\n",
       "first_blood_player1            77677\n",
       "first_blood_player2            53243\n",
       "radiant_bottle_time            81539\n",
       "radiant_courier_time           96538\n",
       "radiant_flying_courier_time    69751\n",
       "radiant_first_ward_time        95394\n",
       "dire_bottle_time               81087\n",
       "dire_courier_time              96554\n",
       "dire_flying_courier_time       71132\n",
       "dire_first_ward_time           95404\n",
       "dtype: int64"
      ]
     },
     "execution_count": 4,
     "metadata": {},
     "output_type": "execute_result"
    }
   ],
   "source": [
    "#Смотрим на стобцы с пропусками:\n",
    "c = X.count()\n",
    "c[c.values<len(X)]"
   ]
  },
  {
   "cell_type": "markdown",
   "metadata": {},
   "source": [
    "**Почему могут быть пропуски в данных?**\n",
    "\n",
    "Например, для *first_blood_time* и *dire_bottle_time*.\n",
    "\n",
    "Скорее всего, из-за того, что событие не произошло в первые 5 минут матча. Для признака *first_blood_time* это явно указано в final_statement."
   ]
  },
  {
   "cell_type": "markdown",
   "metadata": {},
   "source": [
    "Замените пропуски на нули с помощью функции fillna().\n",
    "\n",
    "Какой столбец содержит целевую переменную? Запишите его название."
   ]
  },
  {
   "cell_type": "code",
   "execution_count": 5,
   "metadata": {
    "collapsed": true
   },
   "outputs": [],
   "source": [
    "#Заполняем пропуски:\n",
    "X.fillna(0, inplace=True)\n",
    "\n",
    "#Целевая переменная *radiant_win*:\n",
    "y = features['radiant_win']"
   ]
  },
  {
   "cell_type": "markdown",
   "metadata": {},
   "source": [
    "Забудем, что в выборке есть категориальные признаки, и попробуем обучить градиентный бустинг над деревьями на имеющейся матрице \"объекты-признаки\". Зафиксируйте генератор разбиений для кросс-валидации по 5 блокам (KFold), не забудьте перемешать при этом выборку (shuffle=True), поскольку данные в таблице отсортированы по времени, и без перемешивания можно столкнуться с нежелательными эффектами при оценивании качества. Оцените качество градиентного бустинга (GradientBoostingClassifier) с помощью данной кросс-валидации, попробуйте при этом разное количество деревьев (как минимум протестируйте следующие значения для количества деревьев: 10, 20, 30)."
   ]
  },
  {
   "cell_type": "code",
   "execution_count": 14,
   "metadata": {
    "collapsed": false
   },
   "outputs": [
    {
     "name": "stdout",
     "output_type": "stream",
     "text": [
      "Training for  10\n",
      "Time elapsed: 0:00:29.259000\n",
      "Training for  20\n",
      "Time elapsed: 0:00:51.784000\n",
      "Training for  30\n",
      "Time elapsed: 0:01:18.581000\n",
      "Training for  50\n",
      "Time elapsed: 0:02:01.877000\n",
      "Training for  100\n",
      "Time elapsed: 0:04:20.090000\n"
     ]
    }
   ],
   "source": [
    "trees = [10, 20, 30, 50, 100]\n",
    "kf = KFold(len(X), n_folds=5, shuffle=True, random_state=seed)\n",
    "cv_result = []\n",
    "for t in trees:\n",
    "    clf = GradientBoostingClassifier(n_estimators=t, random_state=seed)\n",
    "    start_time = datetime.datetime.now()\n",
    "    print 'Training for ', t\n",
    "    scores = cross_val_score(clf, X, y, scoring='roc_auc', cv=kf)\n",
    "    print 'Time elapsed:', datetime.datetime.now() - start_time\n",
    "    cv_result.append(np.mean(scores))"
   ]
  },
  {
   "cell_type": "code",
   "execution_count": 15,
   "metadata": {
    "collapsed": false
   },
   "outputs": [
    {
     "data": {
      "text/plain": [
       "[(10, 0.66485069327216473),\n",
       " (20, 0.68246188104131489),\n",
       " (30, 0.69000646786084108),\n",
       " (50, 0.6974943598879767),\n",
       " (100, 0.70622297734006678)]"
      ]
     },
     "execution_count": 15,
     "metadata": {},
     "output_type": "execute_result"
    }
   ],
   "source": [
    "#Смотрим на результаты кросс-валидации:\n",
    "zip(trees,cv_result)"
   ]
  },
  {
   "cell_type": "markdown",
   "metadata": {},
   "source": [
    "### Отчет по градиентному бустингу:\n",
    "\n",
    "*Какие признаки имеют пропуски среди своих значений? Что могут означать пропуски в этих признаках (ответьте на этот вопрос для двух любых признаков)?*\n",
    "\n",
    "Ответ: Например, для first_blood_time и dire_bottle_time.\n",
    "Скорее всего, из-за того, что событие не произошло в первые 5 минут матча. Для признака first_blood_time это явно указано в final_statement.\n",
    "\n",
    "*Как называется столбец, содержащий целевую переменную?*\n",
    "\n",
    "Ответ: radiant_win\n",
    "\n",
    "*Как долго проводилась кросс-валидация для градиентного бустинга с 30 деревьями? Инструкцию по измерению времени можно найти ниже по тексту. Какое качество при этом получилось?*\n",
    "\n",
    "Ответ: Кросс-валидация заняла 0:01:18.581000, качество по *auc_roc* составило 0.6900\n",
    "\n",
    "*Имеет ли смысл использовать больше 30 деревьев в градиентном бустинге? Что бы вы предложили делать, чтобы ускорить его обучение при увеличении количества деревьев?*\n",
    "\n",
    "Ответ: Да, имеет. Видно, что качество продолжает расти и после 30 деревьев. Для ускорения обучения можно использовать часть обучающей выборки (вместо целой), уменьшить число деревьев и/или их глубину. При повторном обучении классификатора можно использовать параметр *warm_start=True*. Если у процессора несколько ядер, для *cross_val_score* можно увеличить параметр n_jobs.\n"
   ]
  },
  {
   "cell_type": "markdown",
   "metadata": {},
   "source": [
    "### Подход 2: логистическая регрессия\n",
    "\n",
    "Линейные методы работают гораздо быстрее композиций деревьев, поэтому кажется разумным воспользоваться именно ими для ускорение анализа данных. Одним из наиболее распространенных методов для классификации является логистическая регрессия.\n",
    "\n",
    "Оцените качество логистической регрессии (sklearn.linear_model.LogisticRegression с L2-регуляризацией) с помощью кросс-валидации по той же схеме, которая использовалась для градиентного бустинга. Подберите при этом лучший параметр регуляризации (C)."
   ]
  },
  {
   "cell_type": "code",
   "execution_count": 8,
   "metadata": {
    "collapsed": false
   },
   "outputs": [
    {
     "data": {
      "text/plain": [
       "[mean: 0.58637, std: 0.01015, params: {'C': 1e-10},\n",
       " mean: 0.68715, std: 0.00125, params: {'C': 1.0000000000000001e-09},\n",
       " mean: 0.68716, std: 0.00125, params: {'C': 1e-08},\n",
       " mean: 0.68726, std: 0.00125, params: {'C': 9.9999999999999995e-08},\n",
       " mean: 0.68819, std: 0.00125, params: {'C': 9.9999999999999995e-07},\n",
       " mean: 0.69516, std: 0.00125, params: {'C': 1.0000000000000001e-05},\n",
       " mean: 0.71136, std: 0.00130, params: {'C': 0.0001},\n",
       " mean: 0.71636, std: 0.00127, params: {'C': 0.001},\n",
       " mean: 0.71655, std: 0.00124, params: {'C': 0.01},\n",
       " mean: 0.71653, std: 0.00124, params: {'C': 0.10000000000000001},\n",
       " mean: 0.71652, std: 0.00123, params: {'C': 1.0},\n",
       " mean: 0.71652, std: 0.00124, params: {'C': 10.0},\n",
       " mean: 0.71652, std: 0.00124, params: {'C': 100.0},\n",
       " mean: 0.71652, std: 0.00124, params: {'C': 1000.0},\n",
       " mean: 0.71652, std: 0.00124, params: {'C': 10000.0},\n",
       " mean: 0.71652, std: 0.00124, params: {'C': 100000.0},\n",
       " mean: 0.71652, std: 0.00124, params: {'C': 1000000.0},\n",
       " mean: 0.71652, std: 0.00124, params: {'C': 10000000.0},\n",
       " mean: 0.71652, std: 0.00124, params: {'C': 100000000.0},\n",
       " mean: 0.71652, std: 0.00124, params: {'C': 1000000000.0}]"
      ]
     },
     "execution_count": 8,
     "metadata": {},
     "output_type": "execute_result"
    }
   ],
   "source": [
    "from sklearn.linear_model import LogisticRegression\n",
    "from sklearn.preprocessing import StandardScaler\n",
    "from sklearn import grid_search\n",
    "\n",
    "def bestC(clf, X, y):\n",
    "    #Функция для поиска оптимального С\n",
    "    grid = {'C': np.power(10.0, np.arange(-10, 10))}\n",
    "    gs = grid_search.GridSearchCV(clf, grid, scoring='roc_auc', cv=kf)\n",
    "    gs.fit(X, y)\n",
    "    return gs.best_estimator_, gs.grid_scores_\n",
    "    \n",
    "kf = KFold(len(X), n_folds=5, shuffle=True, random_state=seed)\n",
    "X_scaled = StandardScaler().fit_transform(X)\n",
    "clfLog = LogisticRegression(random_state=seed)\n",
    "\n",
    "clfLog, gsscores = bestC(clfLog, X_scaled, y)\n",
    "gsscores\n"
   ]
  },
  {
   "cell_type": "code",
   "execution_count": 9,
   "metadata": {
    "collapsed": false
   },
   "outputs": [
    {
     "name": "stdout",
     "output_type": "stream",
     "text": [
      "Training for the best C parameter = 0.01\n",
      "Time elapsed: 0:00:15.376000 Score =  0.716550270785\n"
     ]
    }
   ],
   "source": [
    "#Выбираем наилучший параметр С и смотрим на время обучения логистической регрессии:\n",
    "start_time = datetime.datetime.now()\n",
    "print 'Training for the best C parameter = 0.01'\n",
    "scores = cross_val_score(clfLog, X_scaled, y, scoring='roc_auc', cv=kf)\n",
    "print 'Time elapsed:', datetime.datetime.now() - start_time, 'Score = ', np.mean(scores)"
   ]
  },
  {
   "cell_type": "markdown",
   "metadata": {
    "collapsed": false
   },
   "source": [
    "Видим, что логистическая регрессия обучается значительно быстрее градиентного бустинга.\n",
    "\n",
    "Среди признаков в выборке есть категориальные, которые мы использовали как числовые, что вряд ли является хорошей идеей. Категориальный признаков в этой задаче одиннадцать: lobby_type и r1_hero, r2_hero, ..., r5_hero, d1_hero, d2_hero, ..., d5_hero. Уберите их из выборке, и проведите кросс-валидацию для логистической регрессии на новой выборке с подбором лучшего параметра регуляризации. "
   ]
  },
  {
   "cell_type": "code",
   "execution_count": 10,
   "metadata": {
    "collapsed": false
   },
   "outputs": [],
   "source": [
    "##Убираем категориальные признаки из выборки:\n",
    "categor_cols =  []\n",
    "for c in X.columns:\n",
    "    if c.find('_hero')>0:\n",
    "        categor_cols.append(c)\n",
    "categor_cols.append('lobby_type')\n",
    "\n",
    "X_nocat = X.drop(categor_cols, axis=1)"
   ]
  },
  {
   "cell_type": "code",
   "execution_count": 11,
   "metadata": {
    "collapsed": false
   },
   "outputs": [
    {
     "data": {
      "text/plain": [
       "[mean: 0.59476, std: 0.01403, params: {'C': 1e-10},\n",
       " mean: 0.68711, std: 0.00128, params: {'C': 1.0000000000000001e-09},\n",
       " mean: 0.68712, std: 0.00128, params: {'C': 1e-08},\n",
       " mean: 0.68721, std: 0.00128, params: {'C': 9.9999999999999995e-08},\n",
       " mean: 0.68814, std: 0.00128, params: {'C': 9.9999999999999995e-07},\n",
       " mean: 0.69510, std: 0.00130, params: {'C': 1.0000000000000001e-05},\n",
       " mean: 0.71134, std: 0.00140, params: {'C': 0.0001},\n",
       " mean: 0.71638, std: 0.00137, params: {'C': 0.001},\n",
       " mean: 0.71656, std: 0.00133, params: {'C': 0.01},\n",
       " mean: 0.71653, std: 0.00132, params: {'C': 0.10000000000000001},\n",
       " mean: 0.71653, std: 0.00132, params: {'C': 1.0},\n",
       " mean: 0.71653, std: 0.00132, params: {'C': 10.0},\n",
       " mean: 0.71653, std: 0.00132, params: {'C': 100.0},\n",
       " mean: 0.71653, std: 0.00132, params: {'C': 1000.0},\n",
       " mean: 0.71653, std: 0.00132, params: {'C': 10000.0},\n",
       " mean: 0.71653, std: 0.00132, params: {'C': 100000.0},\n",
       " mean: 0.71653, std: 0.00132, params: {'C': 1000000.0},\n",
       " mean: 0.71653, std: 0.00132, params: {'C': 10000000.0},\n",
       " mean: 0.71653, std: 0.00132, params: {'C': 100000000.0},\n",
       " mean: 0.71653, std: 0.00132, params: {'C': 1000000000.0}]"
      ]
     },
     "execution_count": 11,
     "metadata": {},
     "output_type": "execute_result"
    }
   ],
   "source": [
    "##Повторяем операцию с поиском наилучшего параметра для логистической регрессии:\n",
    "X_nocat = StandardScaler().fit_transform(X_nocat)\n",
    "clfLog = LogisticRegression(random_state=seed)\n",
    "\n",
    "clfLog, gsscores = bestC(clfLog, X_nocat, y)\n",
    "gsscores"
   ]
  },
  {
   "cell_type": "code",
   "execution_count": 12,
   "metadata": {
    "collapsed": false
   },
   "outputs": [
    {
     "name": "stdout",
     "output_type": "stream",
     "text": [
      "Training for the best C parameter = 0.01\n",
      "Time elapsed: 0:00:14.696000 Score =  0.716559386445\n"
     ]
    }
   ],
   "source": [
    "start_time = datetime.datetime.now()\n",
    "print 'Training for the best C parameter = 0.01'\n",
    "scores = cross_val_score(clfLog, X_nocat, y, scoring='roc_auc', cv=kf)\n",
    "print 'Time elapsed:', datetime.datetime.now() - start_time, 'Score = ', np.mean(scores)"
   ]
  },
  {
   "cell_type": "markdown",
   "metadata": {},
   "source": [
    "Видим, что после исключения категориальных признаков модель показала незначительное улучшение."
   ]
  },
  {
   "cell_type": "code",
   "execution_count": 13,
   "metadata": {
    "collapsed": false
   },
   "outputs": [
    {
     "data": {
      "text/plain": [
       "array([  1,   2,   3,   4,   5,   6,   7,   8,   9,  10,  11,  12,  13,\n",
       "        14,  15,  16,  17,  18,  19,  20,  21,  22,  23,  25,  26,  27,\n",
       "        28,  29,  30,  31,  32,  33,  34,  35,  36,  37,  38,  39,  40,\n",
       "        41,  42,  43,  44,  45,  46,  47,  48,  49,  50,  51,  52,  53,\n",
       "        54,  55,  56,  57,  58,  59,  60,  61,  62,  63,  64,  65,  66,\n",
       "        67,  68,  69,  70,  71,  72,  73,  74,  75,  76,  77,  78,  79,\n",
       "        80,  81,  82,  83,  84,  85,  86,  87,  88,  89,  90,  91,  92,\n",
       "        93,  94,  95,  96,  97,  98,  99, 100, 101, 102, 103, 104, 105,\n",
       "       106, 109, 110, 112], dtype=int64)"
      ]
     },
     "execution_count": 13,
     "metadata": {},
     "output_type": "execute_result"
    }
   ],
   "source": [
    "categor_cols.remove('lobby_type')\n",
    "##Уникальных идентификаторов героев:\n",
    "np.unique(X[categor_cols])\n"
   ]
  },
  {
   "cell_type": "markdown",
   "metadata": {},
   "source": [
    "В нашей выборке 108 разных героев, но мы видим, что макс. идентификатор героя = 112, т.е. всего героев, как минимум, 112."
   ]
  },
  {
   "cell_type": "code",
   "execution_count": 14,
   "metadata": {
    "collapsed": false
   },
   "outputs": [],
   "source": [
    "N = 112\n",
    "X_pick = np.zeros((X.shape[0], N))\n",
    "\n",
    "for i, match_id in enumerate(X.index):\n",
    "    for p in xrange(5):\n",
    "        X_pick[i, X.ix[match_id, 'r%d_hero' % (p+1)]-1] = 1\n",
    "        X_pick[i, X.ix[match_id, 'd%d_hero' % (p+1)]-1] = -1"
   ]
  },
  {
   "cell_type": "code",
   "execution_count": 15,
   "metadata": {
    "collapsed": false
   },
   "outputs": [],
   "source": [
    "X_nocat = np.hstack((X_nocat,X_pick))"
   ]
  },
  {
   "cell_type": "code",
   "execution_count": 16,
   "metadata": {
    "collapsed": false
   },
   "outputs": [
    {
     "data": {
      "text/plain": [
       "[mean: 0.60809, std: 0.00794, params: {'C': 1e-10},\n",
       " mean: 0.68931, std: 0.00128, params: {'C': 1.0000000000000001e-09},\n",
       " mean: 0.68933, std: 0.00128, params: {'C': 1e-08},\n",
       " mean: 0.68944, std: 0.00128, params: {'C': 9.9999999999999995e-08},\n",
       " mean: 0.69055, std: 0.00128, params: {'C': 9.9999999999999995e-07},\n",
       " mean: 0.69922, std: 0.00126, params: {'C': 1.0000000000000001e-05},\n",
       " mean: 0.72507, std: 0.00125, params: {'C': 0.0001},\n",
       " mean: 0.74633, std: 0.00173, params: {'C': 0.001},\n",
       " mean: 0.75174, std: 0.00227, params: {'C': 0.01},\n",
       " mean: 0.75195, std: 0.00245, params: {'C': 0.10000000000000001},\n",
       " mean: 0.75193, std: 0.00249, params: {'C': 1.0},\n",
       " mean: 0.75193, std: 0.00249, params: {'C': 10.0},\n",
       " mean: 0.75192, std: 0.00249, params: {'C': 100.0},\n",
       " mean: 0.75192, std: 0.00249, params: {'C': 1000.0},\n",
       " mean: 0.75192, std: 0.00249, params: {'C': 10000.0},\n",
       " mean: 0.75192, std: 0.00249, params: {'C': 100000.0},\n",
       " mean: 0.75192, std: 0.00249, params: {'C': 1000000.0},\n",
       " mean: 0.75192, std: 0.00249, params: {'C': 10000000.0},\n",
       " mean: 0.75192, std: 0.00249, params: {'C': 100000000.0},\n",
       " mean: 0.75192, std: 0.00249, params: {'C': 1000000000.0}]"
      ]
     },
     "execution_count": 16,
     "metadata": {},
     "output_type": "execute_result"
    }
   ],
   "source": [
    "clfLog, gsscores = bestC(clfLog, X_nocat, y)\n",
    "gsscores"
   ]
  },
  {
   "cell_type": "code",
   "execution_count": 17,
   "metadata": {
    "collapsed": false
   },
   "outputs": [
    {
     "data": {
      "text/plain": [
       "LogisticRegression(C=0.10000000000000001, class_weight=None, dual=False,\n",
       "          fit_intercept=True, intercept_scaling=1, max_iter=100,\n",
       "          multi_class='ovr', n_jobs=1, penalty='l2', random_state=42,\n",
       "          solver='liblinear', tol=0.0001, verbose=0, warm_start=False)"
      ]
     },
     "execution_count": 17,
     "metadata": {},
     "output_type": "execute_result"
    }
   ],
   "source": [
    "clfLog"
   ]
  },
  {
   "cell_type": "markdown",
   "metadata": {},
   "source": [
    "Т.к. логистическая регрессия с \"мешком героев\" - наш лучший алгоритм, запустим его на тестовой выборке:"
   ]
  },
  {
   "cell_type": "code",
   "execution_count": 23,
   "metadata": {
    "collapsed": false
   },
   "outputs": [],
   "source": [
    "#Готовим тестовые данные:\n",
    "features_test = pandas.read_csv('./data/features_test.csv', index_col='match_id')\n",
    "features_test.fillna(0, inplace=True)\n",
    "\n",
    "categor_cols =  []\n",
    "for c in features_test.columns:\n",
    "    if c.find('_hero')>0:\n",
    "        categor_cols.append(c)\n",
    "categor_cols.append('lobby_type')\n",
    "\n",
    "X_test = features_test.drop(categor_cols, axis=1)\n",
    "X_test = StandardScaler().fit_transform(X_test)"
   ]
  },
  {
   "cell_type": "code",
   "execution_count": 26,
   "metadata": {
    "collapsed": false
   },
   "outputs": [],
   "source": [
    "#Заменяем категориальные признаки на мешок героев:\n",
    "N = 112\n",
    "X_pick = np.zeros((X_test.shape[0], N))\n",
    "\n",
    "for i, match_id in enumerate(features_test.index):\n",
    "    for p in xrange(5):\n",
    "        X_pick[i, features_test.ix[match_id, 'r%d_hero' % (p+1)]-1] = 1\n",
    "        X_pick[i, features_test.ix[match_id, 'd%d_hero' % (p+1)]-1] = -1\n",
    "\n",
    "X_test = np.hstack((X_test,X_pick))        "
   ]
  },
  {
   "cell_type": "code",
   "execution_count": 30,
   "metadata": {
    "collapsed": false
   },
   "outputs": [],
   "source": [
    "#Делаем прогноз:\n",
    "pred = clfLog.predict_proba(X_test)"
   ]
  },
  {
   "cell_type": "code",
   "execution_count": 33,
   "metadata": {
    "collapsed": false
   },
   "outputs": [
    {
     "data": {
      "text/plain": [
       "0.99645896971338632"
      ]
     },
     "execution_count": 33,
     "metadata": {},
     "output_type": "execute_result"
    }
   ],
   "source": [
    "#Максимальное значение целевой переменной:\n",
    "np.max(pred[:, 1])"
   ]
  },
  {
   "cell_type": "code",
   "execution_count": 34,
   "metadata": {
    "collapsed": false
   },
   "outputs": [
    {
     "data": {
      "text/plain": [
       "0.0085818482993009759"
      ]
     },
     "execution_count": 34,
     "metadata": {},
     "output_type": "execute_result"
    }
   ],
   "source": [
    "#Минимальное значение целевой переменной:\n",
    "np.min(pred[:, 1])"
   ]
  },
  {
   "cell_type": "markdown",
   "metadata": {},
   "source": [
    "### Отчет по логистической регрессии\n",
    "\n",
    "*Какое качество получилось у логистической регрессии над всеми исходными признаками? Как оно соотносится с качеством градиентного бустинга? Чем вы можете объяснить эту разницу? Быстрее ли работает логистическая регрессия по сравнению с градиентным бустингом?*\n",
    "\n",
    "Ответ: Логистическая регрессия над всеми признаками дала результат 0.716550270785, что выше результата для градиентного бустинга на 100 деревьях и меньше. Это можно объяснить тем, что выборка, видимо, достаточно хорошо разделяется линейно, а также (в меньшей степени) тем, что мы не использовали StandardScaler для градиентного бустинга. Логистическая регрессия работает быстрее градиентного бустинга.\n",
    "\n",
    "*Как влияет на качество логистической регрессии удаление категориальных признаков (укажите новое значение метрики качества)? Чем вы можете объяснить это изменение?*\n",
    "\n",
    "Ответ: При удалении категориальных признаков получили небольшое улучшение (новое значение метрики: 0.716559386445). Можно предположить, что логистическая регрессия либо плохо справляется с категориальными признаками в качестве предикторов, либо эти признаки не имели веса и только добавляли шум в модель.\n",
    "\n",
    "*Сколько различных идентификаторов героев существует в данной игре?*\n",
    "\n",
    "Ответ: Уникальных идентификаторов в выборке 108, но т.к. максимальный из них равен 112, можно предположить, что всего героев, как минимум, 112.\n",
    "\n",
    "*Какое получилось качество при добавлении \"мешка слов\" по героям? Улучшилось ли оно по сравнению с предыдущим вариантом? Чем вы можете это объяснить?*\n",
    "\n",
    "Ответ: Получили значительное улучшение результата модели (0.75195). Т.е. какие герои участвуют в матче - важный признак, который до добавления \"мешка слов\" ухудшал модель, т.к. логистическая регрессия плохо обрабатывает категориальные признаки (пока мы их не бинаризуем).\n",
    "\n",
    "*Какое минимальное и максимальное значение прогноза на тестовой выборке получилось у лучшего из алгоритмов?*\n",
    "\n",
    "Ответ: максимальное - 0.99645896971338632, минимальное - 0.0085818482993009759"
   ]
  }
 ],
 "metadata": {
  "kernelspec": {
   "display_name": "Python 2",
   "language": "python",
   "name": "python2"
  },
  "language_info": {
   "codemirror_mode": {
    "name": "ipython",
    "version": 2
   },
   "file_extension": ".py",
   "mimetype": "text/x-python",
   "name": "python",
   "nbconvert_exporter": "python",
   "pygments_lexer": "ipython2",
   "version": "2.7.11"
  }
 },
 "nbformat": 4,
 "nbformat_minor": 0
}
