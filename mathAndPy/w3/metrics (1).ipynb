{
 "cells": [
  {
   "cell_type": "markdown",
   "metadata": {},
   "source": [
    "# Assignment: Метрики качества классификации"
   ]
  },
  {
   "cell_type": "markdown",
   "metadata": {},
   "source": [
    "Данное задание основано на материалах лекций по метрикам качества классификации.\n",
    "\n",
    "Вы научитесь:\n",
    "\n",
    "* вычислять различные меры качества классификации: долю правильных ответов, точность, полноту, AUC-ROC и т.д.\n",
    "* сравнивать алгоритмы классификации при наличии ограничений на точность или полноту\n",
    "\n",
    "## Введение\n",
    "\n",
    "В задачах классификации может быть много особенностей, влияющих на подсчет качества: различные цены ошибок, несбалансированность классов и т.д. Из-за этого существует большое количество метрик качества — каждая из них рассчитана на определенное сочетание свойств задачи и требований к ее решению.\n",
    "\n",
    "Меры качества классификации можно разбить на две большие группы: предназначенные для алгоритмов, выдающих номера классов, и для алгоритмов, выдающих оценки принадлежности к классам. К первой группе относятся доля правильных ответов, точность, полнота, F-мера. Ко второй — площади под ROC- или PR-кривой.\n",
    "\n",
    "## Реализация в `sklearn`\n",
    "\n",
    "Различные метрики качества реализованы в пакете `sklearn.metrics`. Конкретные функции указаны в инструкции по выполнению задания.\n",
    "\n",
    "## Материалы\n",
    "\n",
    "* [Подробнее о метриках качества](https://github.com/esokolov/ml-course-msu/blob/master/ML15/lecture-notes/Sem05_metrics.pdf)"
   ]
  },
  {
   "cell_type": "markdown",
   "metadata": {},
   "source": [
    "## Инструкция по выполнению"
   ]
  },
  {
   "cell_type": "markdown",
   "metadata": {},
   "source": [
    "###  Задание 1\n",
    "Загрузите файл `classification.csv`. В нем записаны истинные классы объектов выборки (колонка `true`) и ответы некоторого классификатора (колонка `predicted`)."
   ]
  },
  {
   "cell_type": "code",
   "execution_count": 2,
   "metadata": {
    "collapsed": true
   },
   "outputs": [],
   "source": [
    "import pandas as pd\n",
    "import numpy as np\n",
    "\n",
    "from sklearn import metrics"
   ]
  },
  {
   "cell_type": "code",
   "execution_count": 5,
   "metadata": {
    "collapsed": false
   },
   "outputs": [
    {
     "name": "stdout",
     "output_type": "stream",
     "text": [
      "(200, 2)\n",
      "200\n",
      "200\n"
     ]
    }
   ],
   "source": [
    "data = pd.read_csv(\"classification.csv\")\n",
    "print(data.shape)\n",
    "\n",
    "true = data['true']\n",
    "print(len(true))\n",
    "predicted = data['pred']\n",
    "print(len(predicted))"
   ]
  },
  {
   "cell_type": "markdown",
   "metadata": {},
   "source": [
    "Заполните **таблицу ошибок классификации**:\n",
    "```\n",
    "                Actual Positive\tActual Negative\n",
    "    Predicted Positive\tTP            FP\n",
    "    Predicted Negative\tFN\t         TN\n",
    "```\n",
    "Для этого подсчитайте величины `TP`, `FP`, `FN` и `TN` согласно их определениям. Например, `FP` — это количество объектов, имеющих класс `0`, но отнесенных алгоритмом к классу `1`. Ответ в данном вопросе — четыре числа через пробел."
   ]
  },
  {
   "cell_type": "code",
   "execution_count": 6,
   "metadata": {
    "collapsed": false
   },
   "outputs": [
    {
     "data": {
      "text/plain": [
       "array([[64, 34],\n",
       "       [59, 43]])"
      ]
     },
     "execution_count": 6,
     "metadata": {},
     "output_type": "execute_result"
    }
   ],
   "source": [
    "metrics.confusion_matrix(true, predicted)"
   ]
  },
  {
   "cell_type": "code",
   "execution_count": 7,
   "metadata": {
    "collapsed": false
   },
   "outputs": [
    {
     "data": {
      "text/plain": [
       "'64 34 59 43'"
      ]
     },
     "execution_count": 7,
     "metadata": {},
     "output_type": "execute_result"
    }
   ],
   "source": [
    "\"64 34 59 43\""
   ]
  },
  {
   "cell_type": "code",
   "execution_count": 3,
   "metadata": {
    "collapsed": false
   },
   "outputs": [
    {
     "ename": "OSError",
     "evalue": "File b'classification.csv' does not exist",
     "output_type": "error",
     "traceback": [
      "\u001b[1;31m---------------------------------------------------------------------------\u001b[0m",
      "\u001b[1;31mOSError\u001b[0m                                   Traceback (most recent call last)",
      "\u001b[1;32m<ipython-input-3-cdbb30f31371>\u001b[0m in \u001b[0;36m<module>\u001b[1;34m()\u001b[0m\n\u001b[1;32m----> 1\u001b[1;33m \u001b[0mdf\u001b[0m \u001b[1;33m=\u001b[0m \u001b[0mpd\u001b[0m\u001b[1;33m.\u001b[0m\u001b[0mread_csv\u001b[0m\u001b[1;33m(\u001b[0m\u001b[1;34m'classification.csv'\u001b[0m\u001b[1;33m)\u001b[0m\u001b[1;33m\u001b[0m\u001b[0m\n\u001b[0m\u001b[0;32m      2\u001b[0m \u001b[1;33m\u001b[0m\u001b[0m\n\u001b[0;32m      3\u001b[0m \u001b[0mTP\u001b[0m \u001b[1;33m=\u001b[0m \u001b[0msum\u001b[0m\u001b[1;33m(\u001b[0m\u001b[1;33m(\u001b[0m\u001b[0mdf\u001b[0m\u001b[1;33m.\u001b[0m\u001b[0mtrue\u001b[0m \u001b[1;33m==\u001b[0m \u001b[0mdf\u001b[0m\u001b[1;33m.\u001b[0m\u001b[0mpred\u001b[0m\u001b[1;33m)\u001b[0m \u001b[1;33m&\u001b[0m \u001b[1;33m(\u001b[0m\u001b[0mdf\u001b[0m\u001b[1;33m.\u001b[0m\u001b[0mpred\u001b[0m \u001b[1;33m==\u001b[0m \u001b[1;36m1\u001b[0m\u001b[1;33m)\u001b[0m\u001b[1;33m)\u001b[0m\u001b[1;33m\u001b[0m\u001b[0m\n\u001b[0;32m      4\u001b[0m \u001b[0mFP\u001b[0m \u001b[1;33m=\u001b[0m \u001b[0msum\u001b[0m\u001b[1;33m(\u001b[0m\u001b[1;33m(\u001b[0m\u001b[0mdf\u001b[0m\u001b[1;33m.\u001b[0m\u001b[0mtrue\u001b[0m \u001b[1;33m!=\u001b[0m \u001b[0mdf\u001b[0m\u001b[1;33m.\u001b[0m\u001b[0mpred\u001b[0m\u001b[1;33m)\u001b[0m \u001b[1;33m&\u001b[0m \u001b[1;33m(\u001b[0m\u001b[0mdf\u001b[0m\u001b[1;33m.\u001b[0m\u001b[0mpred\u001b[0m \u001b[1;33m==\u001b[0m \u001b[1;36m1\u001b[0m\u001b[1;33m)\u001b[0m\u001b[1;33m)\u001b[0m\u001b[1;33m\u001b[0m\u001b[0m\n\u001b[0;32m      5\u001b[0m \u001b[0mFN\u001b[0m \u001b[1;33m=\u001b[0m \u001b[0msum\u001b[0m\u001b[1;33m(\u001b[0m\u001b[1;33m(\u001b[0m\u001b[0mdf\u001b[0m\u001b[1;33m.\u001b[0m\u001b[0mtrue\u001b[0m \u001b[1;33m!=\u001b[0m \u001b[0mdf\u001b[0m\u001b[1;33m.\u001b[0m\u001b[0mpred\u001b[0m\u001b[1;33m)\u001b[0m \u001b[1;33m&\u001b[0m \u001b[1;33m(\u001b[0m\u001b[0mdf\u001b[0m\u001b[1;33m.\u001b[0m\u001b[0mpred\u001b[0m \u001b[1;33m==\u001b[0m \u001b[1;36m0\u001b[0m\u001b[1;33m)\u001b[0m\u001b[1;33m)\u001b[0m\u001b[1;33m\u001b[0m\u001b[0m\n",
      "\u001b[1;32mC:\\Users\\Nikolay\\AppData\\Local\\Continuum\\Anaconda3\\lib\\site-packages\\pandas\\io\\parsers.py\u001b[0m in \u001b[0;36mparser_f\u001b[1;34m(filepath_or_buffer, sep, dialect, compression, doublequote, escapechar, quotechar, quoting, skipinitialspace, lineterminator, header, index_col, names, prefix, skiprows, skipfooter, skip_footer, na_values, true_values, false_values, delimiter, converters, dtype, usecols, engine, delim_whitespace, as_recarray, na_filter, compact_ints, use_unsigned, low_memory, buffer_lines, warn_bad_lines, error_bad_lines, keep_default_na, thousands, comment, decimal, parse_dates, keep_date_col, dayfirst, date_parser, memory_map, float_precision, nrows, iterator, chunksize, verbose, encoding, squeeze, mangle_dupe_cols, tupleize_cols, infer_datetime_format, skip_blank_lines)\u001b[0m\n\u001b[0;32m    496\u001b[0m                     skip_blank_lines=skip_blank_lines)\n\u001b[0;32m    497\u001b[0m \u001b[1;33m\u001b[0m\u001b[0m\n\u001b[1;32m--> 498\u001b[1;33m         \u001b[1;32mreturn\u001b[0m \u001b[0m_read\u001b[0m\u001b[1;33m(\u001b[0m\u001b[0mfilepath_or_buffer\u001b[0m\u001b[1;33m,\u001b[0m \u001b[0mkwds\u001b[0m\u001b[1;33m)\u001b[0m\u001b[1;33m\u001b[0m\u001b[0m\n\u001b[0m\u001b[0;32m    499\u001b[0m \u001b[1;33m\u001b[0m\u001b[0m\n\u001b[0;32m    500\u001b[0m     \u001b[0mparser_f\u001b[0m\u001b[1;33m.\u001b[0m\u001b[0m__name__\u001b[0m \u001b[1;33m=\u001b[0m \u001b[0mname\u001b[0m\u001b[1;33m\u001b[0m\u001b[0m\n",
      "\u001b[1;32mC:\\Users\\Nikolay\\AppData\\Local\\Continuum\\Anaconda3\\lib\\site-packages\\pandas\\io\\parsers.py\u001b[0m in \u001b[0;36m_read\u001b[1;34m(filepath_or_buffer, kwds)\u001b[0m\n\u001b[0;32m    273\u001b[0m \u001b[1;33m\u001b[0m\u001b[0m\n\u001b[0;32m    274\u001b[0m     \u001b[1;31m# Create the parser.\u001b[0m\u001b[1;33m\u001b[0m\u001b[1;33m\u001b[0m\u001b[0m\n\u001b[1;32m--> 275\u001b[1;33m     \u001b[0mparser\u001b[0m \u001b[1;33m=\u001b[0m \u001b[0mTextFileReader\u001b[0m\u001b[1;33m(\u001b[0m\u001b[0mfilepath_or_buffer\u001b[0m\u001b[1;33m,\u001b[0m \u001b[1;33m**\u001b[0m\u001b[0mkwds\u001b[0m\u001b[1;33m)\u001b[0m\u001b[1;33m\u001b[0m\u001b[0m\n\u001b[0m\u001b[0;32m    276\u001b[0m \u001b[1;33m\u001b[0m\u001b[0m\n\u001b[0;32m    277\u001b[0m     \u001b[1;32mif\u001b[0m \u001b[1;33m(\u001b[0m\u001b[0mnrows\u001b[0m \u001b[1;32mis\u001b[0m \u001b[1;32mnot\u001b[0m \u001b[1;32mNone\u001b[0m\u001b[1;33m)\u001b[0m \u001b[1;32mand\u001b[0m \u001b[1;33m(\u001b[0m\u001b[0mchunksize\u001b[0m \u001b[1;32mis\u001b[0m \u001b[1;32mnot\u001b[0m \u001b[1;32mNone\u001b[0m\u001b[1;33m)\u001b[0m\u001b[1;33m:\u001b[0m\u001b[1;33m\u001b[0m\u001b[0m\n",
      "\u001b[1;32mC:\\Users\\Nikolay\\AppData\\Local\\Continuum\\Anaconda3\\lib\\site-packages\\pandas\\io\\parsers.py\u001b[0m in \u001b[0;36m__init__\u001b[1;34m(self, f, engine, **kwds)\u001b[0m\n\u001b[0;32m    588\u001b[0m             \u001b[0mself\u001b[0m\u001b[1;33m.\u001b[0m\u001b[0moptions\u001b[0m\u001b[1;33m[\u001b[0m\u001b[1;34m'has_index_names'\u001b[0m\u001b[1;33m]\u001b[0m \u001b[1;33m=\u001b[0m \u001b[0mkwds\u001b[0m\u001b[1;33m[\u001b[0m\u001b[1;34m'has_index_names'\u001b[0m\u001b[1;33m]\u001b[0m\u001b[1;33m\u001b[0m\u001b[0m\n\u001b[0;32m    589\u001b[0m \u001b[1;33m\u001b[0m\u001b[0m\n\u001b[1;32m--> 590\u001b[1;33m         \u001b[0mself\u001b[0m\u001b[1;33m.\u001b[0m\u001b[0m_make_engine\u001b[0m\u001b[1;33m(\u001b[0m\u001b[0mself\u001b[0m\u001b[1;33m.\u001b[0m\u001b[0mengine\u001b[0m\u001b[1;33m)\u001b[0m\u001b[1;33m\u001b[0m\u001b[0m\n\u001b[0m\u001b[0;32m    591\u001b[0m \u001b[1;33m\u001b[0m\u001b[0m\n\u001b[0;32m    592\u001b[0m     \u001b[1;32mdef\u001b[0m \u001b[0m_get_options_with_defaults\u001b[0m\u001b[1;33m(\u001b[0m\u001b[0mself\u001b[0m\u001b[1;33m,\u001b[0m \u001b[0mengine\u001b[0m\u001b[1;33m)\u001b[0m\u001b[1;33m:\u001b[0m\u001b[1;33m\u001b[0m\u001b[0m\n",
      "\u001b[1;32mC:\\Users\\Nikolay\\AppData\\Local\\Continuum\\Anaconda3\\lib\\site-packages\\pandas\\io\\parsers.py\u001b[0m in \u001b[0;36m_make_engine\u001b[1;34m(self, engine)\u001b[0m\n\u001b[0;32m    729\u001b[0m     \u001b[1;32mdef\u001b[0m \u001b[0m_make_engine\u001b[0m\u001b[1;33m(\u001b[0m\u001b[0mself\u001b[0m\u001b[1;33m,\u001b[0m \u001b[0mengine\u001b[0m\u001b[1;33m=\u001b[0m\u001b[1;34m'c'\u001b[0m\u001b[1;33m)\u001b[0m\u001b[1;33m:\u001b[0m\u001b[1;33m\u001b[0m\u001b[0m\n\u001b[0;32m    730\u001b[0m         \u001b[1;32mif\u001b[0m \u001b[0mengine\u001b[0m \u001b[1;33m==\u001b[0m \u001b[1;34m'c'\u001b[0m\u001b[1;33m:\u001b[0m\u001b[1;33m\u001b[0m\u001b[0m\n\u001b[1;32m--> 731\u001b[1;33m             \u001b[0mself\u001b[0m\u001b[1;33m.\u001b[0m\u001b[0m_engine\u001b[0m \u001b[1;33m=\u001b[0m \u001b[0mCParserWrapper\u001b[0m\u001b[1;33m(\u001b[0m\u001b[0mself\u001b[0m\u001b[1;33m.\u001b[0m\u001b[0mf\u001b[0m\u001b[1;33m,\u001b[0m \u001b[1;33m**\u001b[0m\u001b[0mself\u001b[0m\u001b[1;33m.\u001b[0m\u001b[0moptions\u001b[0m\u001b[1;33m)\u001b[0m\u001b[1;33m\u001b[0m\u001b[0m\n\u001b[0m\u001b[0;32m    732\u001b[0m         \u001b[1;32melse\u001b[0m\u001b[1;33m:\u001b[0m\u001b[1;33m\u001b[0m\u001b[0m\n\u001b[0;32m    733\u001b[0m             \u001b[1;32mif\u001b[0m \u001b[0mengine\u001b[0m \u001b[1;33m==\u001b[0m \u001b[1;34m'python'\u001b[0m\u001b[1;33m:\u001b[0m\u001b[1;33m\u001b[0m\u001b[0m\n",
      "\u001b[1;32mC:\\Users\\Nikolay\\AppData\\Local\\Continuum\\Anaconda3\\lib\\site-packages\\pandas\\io\\parsers.py\u001b[0m in \u001b[0;36m__init__\u001b[1;34m(self, src, **kwds)\u001b[0m\n\u001b[0;32m   1101\u001b[0m         \u001b[0mkwds\u001b[0m\u001b[1;33m[\u001b[0m\u001b[1;34m'allow_leading_cols'\u001b[0m\u001b[1;33m]\u001b[0m \u001b[1;33m=\u001b[0m \u001b[0mself\u001b[0m\u001b[1;33m.\u001b[0m\u001b[0mindex_col\u001b[0m \u001b[1;32mis\u001b[0m \u001b[1;32mnot\u001b[0m \u001b[1;32mFalse\u001b[0m\u001b[1;33m\u001b[0m\u001b[0m\n\u001b[0;32m   1102\u001b[0m \u001b[1;33m\u001b[0m\u001b[0m\n\u001b[1;32m-> 1103\u001b[1;33m         \u001b[0mself\u001b[0m\u001b[1;33m.\u001b[0m\u001b[0m_reader\u001b[0m \u001b[1;33m=\u001b[0m \u001b[0m_parser\u001b[0m\u001b[1;33m.\u001b[0m\u001b[0mTextReader\u001b[0m\u001b[1;33m(\u001b[0m\u001b[0msrc\u001b[0m\u001b[1;33m,\u001b[0m \u001b[1;33m**\u001b[0m\u001b[0mkwds\u001b[0m\u001b[1;33m)\u001b[0m\u001b[1;33m\u001b[0m\u001b[0m\n\u001b[0m\u001b[0;32m   1104\u001b[0m \u001b[1;33m\u001b[0m\u001b[0m\n\u001b[0;32m   1105\u001b[0m         \u001b[1;31m# XXX\u001b[0m\u001b[1;33m\u001b[0m\u001b[1;33m\u001b[0m\u001b[0m\n",
      "\u001b[1;32mpandas\\parser.pyx\u001b[0m in \u001b[0;36mpandas.parser.TextReader.__cinit__ (pandas\\parser.c:3246)\u001b[1;34m()\u001b[0m\n",
      "\u001b[1;32mpandas\\parser.pyx\u001b[0m in \u001b[0;36mpandas.parser.TextReader._setup_parser_source (pandas\\parser.c:6111)\u001b[1;34m()\u001b[0m\n",
      "\u001b[1;31mOSError\u001b[0m: File b'classification.csv' does not exist"
     ]
    }
   ],
   "source": [
    "df = pd.read_csv('classification.csv')\n",
    "\n",
    "TP = sum((df.true == df.pred) & (df.pred == 1))\n",
    "FP = sum((df.true != df.pred) & (df.pred == 1))\n",
    "FN = sum((df.true != df.pred) & (df.pred == 0))\n",
    "TN = sum((df.true == df.pred) & (df.pred == 0))\n",
    "\n",
    "accuracy = metrics.accuracy_score(df.true,df.pred)\n",
    "precision = metrics.precision_score(df.true,df.pred)\n",
    "recall = metrics.recall_score(df.true,df.pred)\n",
    "f1 = metrics.f1_score(df.true,df.pred)\n",
    "print(TP, FP, FN, TN)"
   ]
  },
  {
   "cell_type": "markdown",
   "metadata": {},
   "source": [
    "### Задание 2\n",
    "\n",
    "Посчитайте основные метрики качества классификатора:\n",
    "\n",
    "- Accuracy (доля верно угаданных) — `sklearn.metrics.accuracy_score`\n",
    "- Precision (точность) — `sklearn.metrics.precision_score`\n",
    "- Recall (полнота) — `sklearn.metrics.recall_score`\n",
    "- F-мера — `sklearn.metrics.f1_score`\n",
    "\n",
    "В качестве ответа укажите эти четыре числа через пробел."
   ]
  },
  {
   "cell_type": "code",
   "execution_count": 10,
   "metadata": {
    "collapsed": false
   },
   "outputs": [
    {
     "name": "stdout",
     "output_type": "stream",
     "text": [
      "0.54 0.56 0.42 0.48\n"
     ]
    }
   ],
   "source": [
    "print(round(metrics.accuracy_score(true, predicted), 2), \n",
    "      round(metrics.precision_score(true,predicted), 2), \n",
    "      round(metrics.recall_score(true,predicted), 2),\n",
    "      round(metrics.f1_score(true,predicted), 2)\n",
    "    )"
   ]
  },
  {
   "cell_type": "markdown",
   "metadata": {},
   "source": [
    "### Задание 3"
   ]
  },
  {
   "cell_type": "markdown",
   "metadata": {},
   "source": [
    "Имеется четыре обученных классификатора. В файле `scores.csv` записаны истинные классы и значения степени принадлежности положительному классу для каждого классификатора на некоторой выборке:\n",
    "\n",
    "- для логистической регрессии — вероятность положительного класса (колонка `score_logreg`),\n",
    "- для SVM — отступ от разделяющей поверхности (колонка `score_svm`),\n",
    "- для метрического алгоритма — взвешенная сумма классов соседей (колонка `score_knn`),\n",
    "- для решающего дерева — доля положительных объектов в листе (колонка `score_tree`).\n",
    "\n",
    "Загрузите этот файл."
   ]
  },
  {
   "cell_type": "code",
   "execution_count": 12,
   "metadata": {
    "collapsed": true
   },
   "outputs": [
    {
     "data": {
      "text/plain": [
       "<bound method NDFrame.head of      true  score_logreg  score_svm  score_knn  score_tree\n",
       "0       0      0.683832   0.145976   0.787063    0.500000\n",
       "1       1      0.801966   0.239511   1.000000    0.833333\n",
       "2       0      0.382315  -0.245701   0.000000    0.000000\n",
       "3       1      0.506797  -0.137058   0.000000    0.105263\n",
       "4       1      0.488781  -0.154148   0.000000    0.105263\n",
       "5       0      0.108506  -0.790864   0.000000    0.000000\n",
       "6       0      0.413749  -0.185143   0.283053    0.363636\n",
       "7       0      0.961081   0.830973   1.000000    1.000000\n",
       "8       0      0.055733  -0.872805   0.000000    0.100000\n",
       "9       0      0.168708  -0.518390   0.000000    0.100000\n",
       "10      1      0.504716  -0.103459   0.698631    0.833333\n",
       "11      1      0.700781   0.104391   1.000000    0.833333\n",
       "12      0      0.310665  -0.301488   0.676880    0.363636\n",
       "13      0      0.784460   0.195189   1.000000    0.923077\n",
       "14      0      0.160733  -0.611195   0.655103    0.315789\n",
       "15      1      0.799574   0.331874   1.000000    1.000000\n",
       "16      0      0.582998  -0.089084   0.435303    0.923077\n",
       "17      1      0.814842   0.283855   0.551823    0.833333\n",
       "18      0      0.157332  -0.631128   0.572756    0.315789\n",
       "19      1      0.931500   0.708483   1.000000    1.000000\n",
       "20      0      0.138797  -0.686697   0.000000    0.315789\n",
       "21      1      0.274198  -0.431631   0.797432    0.642857\n",
       "22      0      0.720033   0.230868   0.701967    0.700000\n",
       "23      1      0.843546   0.355761   1.000000    1.000000\n",
       "24      0      0.609126   0.084097   1.000000    0.700000\n",
       "25      1      0.880773   0.423232   1.000000    1.000000\n",
       "26      0      0.239080  -0.373287   0.625865    0.363636\n",
       "27      0      0.305787  -0.342313   0.000000    0.000000\n",
       "28      1      0.543229  -0.093911   0.000000    0.105263\n",
       "29      1      0.074923  -0.875135   0.356250    0.000000\n",
       "..    ...           ...        ...        ...         ...\n",
       "170     1      0.963559   0.919219   1.000000    1.000000\n",
       "171     0      0.358193  -0.277359   0.000000    0.000000\n",
       "172     1      0.728585   0.162791   1.000000    0.833333\n",
       "173     0      0.956966   0.791260   1.000000    1.000000\n",
       "174     1      0.921236   0.587108   0.636871    0.700000\n",
       "175     1      0.488522  -0.179402   0.723928    0.400000\n",
       "176     1      0.634594  -0.000936   0.329428    0.400000\n",
       "177     0      0.212360  -0.445750   0.000000    0.100000\n",
       "178     0      0.546161  -0.079479   0.280409    0.105263\n",
       "179     1      0.816888   0.275750   0.629734    0.833333\n",
       "180     1      0.936342   0.700641   1.000000    1.000000\n",
       "181     1      0.345238  -0.254075   0.815816    0.363636\n",
       "182     1      0.775077   0.226086   1.000000    0.833333\n",
       "183     0      0.784289   0.240379   1.000000    0.833333\n",
       "184     0      0.391728  -0.328802   0.000000    0.400000\n",
       "185     1      0.446609  -0.163247   0.000000    0.363636\n",
       "186     1      0.369691  -0.263503   0.298588    0.000000\n",
       "187     0      0.373856  -0.307583   0.000000    0.105263\n",
       "188     1      0.101603  -0.707600   0.000000    0.100000\n",
       "189     0      0.592363  -0.051362   0.000000    0.400000\n",
       "190     0      0.282557  -0.393812   0.000000    0.000000\n",
       "191     1      0.850252   0.358618   1.000000    1.000000\n",
       "192     0      0.563431  -0.072862   0.000000    0.400000\n",
       "193     0      0.255245  -0.447265   0.650820    0.315789\n",
       "194     1      0.903727   0.531599   0.000000    0.700000\n",
       "195     0      0.573801  -0.088203   0.284192    0.400000\n",
       "196     0      0.624422  -0.012315   0.205437    0.400000\n",
       "197     1      0.425538  -0.135673   0.382351    0.700000\n",
       "198     0      0.905270   0.583806   1.000000    1.000000\n",
       "199     0      0.275594  -0.422160   0.743567    0.642857\n",
       "\n",
       "[200 rows x 5 columns]>"
      ]
     },
     "execution_count": 12,
     "metadata": {},
     "output_type": "execute_result"
    }
   ],
   "source": [
    "scores = pd.read_csv(\"scores.csv\")\n",
    "scores.head"
   ]
  },
  {
   "cell_type": "code",
   "execution_count": 22,
   "metadata": {
    "collapsed": false
   },
   "outputs": [],
   "source": [
    "ytest = scores['true']"
   ]
  },
  {
   "cell_type": "markdown",
   "metadata": {},
   "source": [
    "Посчитайте площадь под `ROC`-кривой для каждого классификатора. Какой классификатор имеет наибольшее значение метрики `AUC-ROC` (укажите название столбца с ответами этого классификатора)? Воспользуйтесь функцией `sklearn.metrics.roc_auc_score`."
   ]
  },
  {
   "cell_type": "code",
   "execution_count": 23,
   "metadata": {
    "collapsed": false
   },
   "outputs": [
    {
     "name": "stdout",
     "output_type": "stream",
     "text": [
      "0.71918767507\n",
      "0.708683473389\n",
      "0.635154061625\n",
      "0.691926770708\n"
     ]
    }
   ],
   "source": [
    "print(metrics.roc_auc_score(ytest, scores['score_logreg']))\n",
    "print(metrics.roc_auc_score(ytest, scores['score_svm']))\n",
    "print(metrics.roc_auc_score(ytest, scores['score_knn']))\n",
    "print(metrics.roc_auc_score(ytest, scores['score_tree']))"
   ]
  },
  {
   "cell_type": "code",
   "execution_count": null,
   "metadata": {
    "collapsed": true
   },
   "outputs": [],
   "source": []
  },
  {
   "cell_type": "markdown",
   "metadata": {},
   "source": [
    "### Задание 4\n",
    "\n",
    "Какой классификатор достигает наибольшей точности (`Precision`) при полноте (`Recall`) не менее 70% ? Какое значение точности при этом получается?\n",
    "\n",
    "Чтобы получить ответ на этот вопрос, найдите все точки `precision-recall`-кривой с помощью функции `sklearn.metrics.precision_recall_curve`. Она возвращает три массива: `precision`, `recall`, `thresholds`. В них записаны точность и полнота при определенных порогах, указанных в массиве `thresholds`. Найдите максимальной значение точности среди тех записей, для которых полнота не меньше, чем 0.7."
   ]
  },
  {
   "cell_type": "code",
   "execution_count": 49,
   "metadata": {
    "collapsed": false
   },
   "outputs": [
    {
     "name": "stdout",
     "output_type": "stream",
     "text": [
      "0.63025210084\n",
      "0.622807017544\n",
      "0.606557377049\n",
      "0.651785714286\n"
     ]
    }
   ],
   "source": [
    "\n",
    "# precision = dict()\n",
    "# recall = dict()\n",
    "# threshold = dict()\n",
    "precisionL, recallL, thresholdL = metrics.precision_recall_curve(ytest, scores['score_logreg'])\n",
    "print(max(precisionL[recallL >= 0.7]))\n",
    "\n",
    "precisionS, recallS, thresholdS = metrics.precision_recall_curve(ytest, scores['score_svm'])\n",
    "print(max(precisionS[recallS >= 0.7]))\n",
    "precisionK, recallK, thresholdK = metrics.precision_recall_curve(ytest, scores['score_knn'])\n",
    "print(max(precisionK[recallK > 0.7]))\n",
    "precisionT, recallT, thresholdT = metrics.precision_recall_curve(ytest, scores['score_tree'])\n",
    "print(max(precisionT[recallT > 0.7]))\n"
   ]
  },
  {
   "cell_type": "markdown",
   "metadata": {},
   "source": [
    "Если ответом является нецелое число, то целую и дробную часть необходимо разграничивать точкой, например, 0.42. При необходимости округляйте дробную часть до двух знаков. Ответ на каждое задание — текстовый файл, содержащий ответ в первой строчке. Обратите внимание, что отправляемые файлы не должны содержать перевод строки в конце. Данный нюанс является ограничением платформы Coursera. Мы работаем над тем, чтобы убрать это ограничение."
   ]
  },
  {
   "cell_type": "code",
   "execution_count": null,
   "metadata": {
    "collapsed": true
   },
   "outputs": [],
   "source": []
  }
 ],
 "metadata": {
  "kernelspec": {
   "display_name": "Python 3",
   "language": "python",
   "name": "python3"
  },
  "language_info": {
   "codemirror_mode": {
    "name": "ipython",
    "version": 3
   },
   "file_extension": ".py",
   "mimetype": "text/x-python",
   "name": "python",
   "nbconvert_exporter": "python",
   "pygments_lexer": "ipython3",
   "version": "3.5.1"
  }
 },
 "nbformat": 4,
 "nbformat_minor": 0
}
